{
 "cells": [
  {
   "cell_type": "code",
   "execution_count": 1,
   "id": "14871f2e",
   "metadata": {},
   "outputs": [],
   "source": [
    "import sys\n",
    "from pathlib import Path\n",
    "\n",
    "sys.path.append(str(Path.cwd().parent))\n",
    "sys.path.append(str(Path.cwd().parent / 'modules'))\n",
    "sys.path.append(str(Path.cwd().parent / 'utils'))\n",
    "\n",
    "# sys.path.append(str(Path.cwd().parent / 'src' / 'modules'))"
   ]
  },
  {
   "cell_type": "code",
   "execution_count": 2,
   "id": "e603c81b",
   "metadata": {},
   "outputs": [],
   "source": [
    "from utils.make_passage import generate_passage\n",
    "from utils.make_stem import generate_stem\n",
    "from utils.make_option import generate_options"
   ]
  },
  {
   "cell_type": "code",
   "execution_count": null,
   "id": "750cbcd6",
   "metadata": {},
   "outputs": [],
   "source": [
    "MODEL_LIST = [\"Midm-2.0-Base-Instruct\", \"EXAONE-3.5-7.8B-Instruct\", \"A.X-4.0-Light\", \"llama3.1_korean_v1.1_sft_by_aidx\", \"llama3-bllossom-3b\"]\n",
    "USER_AGENT = \"iSKA (sjun24530@gmail.com)\"\n",
    "BENCH_ID_LIST = [1, 2, 3, 4, 5]\n",
    "BENCH_FILE = \"v1/iSKA-Gen_Benchmark_v1.0.0_20250725_Initial.json\"\n",
    "DATE_STR = \"2025-07-28\"  # 날짜 문자열 추가"
   ]
  },
  {
   "cell_type": "code",
   "execution_count": null,
   "id": "58f2f3cf",
   "metadata": {},
   "outputs": [
    {
     "name": "stdout",
     "output_type": "stream",
     "text": [
      "🎯 CUDA_VISIBLE_DEVICES 설정: 2,3\n",
      "🧹 CUDA 캐시 정리 완료\n",
      "🎯 다중 GPU 모드: 실제 GPU [2, 3] → 논리적 GPU 0~1\n",
      "🔗 디바이스 매핑: {'cuda:0': 'cuda:0', 'cuda:1': 'cuda:1'}\n",
      "🔄 로컬 모델 로딩 중: /home/sjin4861/models/Midm-2.0-Base-Instruct...\n",
      "📊 GPU 메모리 상태:\n",
      "   논리적 GPU 0 (실제 GPU 2): 0.0GB 할당, 0.0GB 캐시, 23.7GB 총용량\n",
      "   논리적 GPU 1 (실제 GPU 3): 0.0GB 할당, 0.0GB 캐시, 23.7GB 총용량\n",
      "🔧 모델 로딩 옵션: device_map={'cuda:0': 'cuda:0', 'cuda:1': 'cuda:1'}\n"
     ]
    },
    {
     "data": {
      "application/vnd.jupyter.widget-view+json": {
       "model_id": "1d3adf422c9549a3b0821bbf5d286a38",
       "version_major": 2,
       "version_minor": 0
      },
      "text/plain": [
       "Loading checkpoint shards:   0%|          | 0/5 [00:00<?, ?it/s]"
      ]
     },
     "metadata": {},
     "output_type": "display_data"
    },
    {
     "name": "stdout",
     "output_type": "stream",
     "text": [
      "❌ 모델 로딩 실패: model.embed_tokens.weight doesn't have any device set.\n",
      "🔄 보수적인 설정으로 재시도...\n"
     ]
    },
    {
     "data": {
      "application/vnd.jupyter.widget-view+json": {
       "model_id": "be550d6801274d71a03c480923396324",
       "version_major": 2,
       "version_minor": 0
      },
      "text/plain": [
       "Loading checkpoint shards:   0%|          | 0/5 [00:00<?, ?it/s]"
      ]
     },
     "metadata": {},
     "output_type": "display_data"
    },
    {
     "name": "stdout",
     "output_type": "stream",
     "text": [
      "🔧 모델을 cuda:2로 이동 완료\n",
      "✅ 로컬 모델 로딩 완료 (cuda:2)\n",
      "✅ 지문 생성 에이전트가 초기화되었습니다.\n",
      "\n",
      "✨ '회식 문화' vs 'Happy Hour Culture' 지문 생성을 시작합니다...\n",
      "✅ 최종 지문 생성 성공!\n",
      "\n",
      "✨ '빨리빨리 문화' vs 'Slow Living Movement' 지문 생성을 시작합니다...\n",
      "✅ 최종 지문 생성 성공!\n",
      "\n",
      "✨ '김장 문화' vs 'Harvest Festival' 지문 생성을 시작합니다...\n",
      "✅ 최종 지문 생성 성공!\n",
      "\n",
      "✨ '수능 (대학수학능력시험)' vs 'SAT (Scholastic Aptitude Test)' 지문 생성을 시작합니다...\n"
     ]
    }
   ],
   "source": [
    "for model_name in MODEL_LIST:\n",
    "    generate_passage(benchmark_file=BENCH_FILE, model_name=model_name, template_key=\"passage_agent.create_passage_rubric_aware\", gpus=[2, 3], BENCH_ID_LIST=BENCH_ID_LIST, date_str=DATE_STR)"
   ]
  },
  {
   "cell_type": "code",
   "execution_count": null,
   "id": "b8c5914a",
   "metadata": {},
   "outputs": [
    {
     "name": "stdout",
     "output_type": "stream",
     "text": [
      "🎯 CUDA_VISIBLE_DEVICES 설정: 2,3\n",
      "🧹 CUDA 캐시 정리 완료\n",
      "🎯 다중 GPU 모드: 실제 GPU [2, 3] → 논리적 GPU 0~1\n",
      "🔗 디바이스 매핑: {'cuda:0': 'cuda:0', 'cuda:1': 'cuda:1'}\n",
      "🔄 로컬 모델 로딩 중: /home/sjin4861/models/Midm-2.0-Base-Instruct...\n",
      "📊 GPU 메모리 상태:\n",
      "   논리적 GPU 0 (실제 GPU 2): 0.0GB 할당, 0.0GB 캐시, 23.7GB 총용량\n",
      "   논리적 GPU 1 (실제 GPU 3): 0.0GB 할당, 0.0GB 캐시, 23.7GB 총용량\n",
      "🔧 모델 로딩 옵션: device_map={'cuda:0': 'cuda:0', 'cuda:1': 'cuda:1'}\n"
     ]
    },
    {
     "data": {
      "application/vnd.jupyter.widget-view+json": {
       "model_id": "6e6e58f78e5a4a3296b6aa71e3e98836",
       "version_major": 2,
       "version_minor": 0
      },
      "text/plain": [
       "Loading checkpoint shards:   0%|          | 0/5 [00:00<?, ?it/s]"
      ]
     },
     "metadata": {},
     "output_type": "display_data"
    },
    {
     "name": "stdout",
     "output_type": "stream",
     "text": [
      "❌ 모델 로딩 실패: model.embed_tokens.weight doesn't have any device set.\n",
      "🔄 보수적인 설정으로 재시도...\n"
     ]
    },
    {
     "data": {
      "application/vnd.jupyter.widget-view+json": {
       "model_id": "03ccbe7927e04a0d94b27f17f5faaa8d",
       "version_major": 2,
       "version_minor": 0
      },
      "text/plain": [
       "Loading checkpoint shards:   0%|          | 0/5 [00:00<?, ?it/s]"
      ]
     },
     "metadata": {},
     "output_type": "display_data"
    },
    {
     "name": "stdout",
     "output_type": "stream",
     "text": [
      "🔧 모델을 cuda:2로 이동 완료\n",
      "✅ 로컬 모델 로딩 완료 (cuda:2)\n",
      "✅ 문항(Stem) 생성 에이전트가 초기화되었습니다.\n",
      "\n",
      "📝 벤치마크 ID 1에 대한 stem 생성 중...\n",
      "✅ Loaded: benchmark_1_v1.0.0_passage_agent.create_passage_rubric_aware.json\n",
      "✅ Found passage file with exact template: passage_agent.create_passage_rubric_aware\n",
      "✅ 1개의 passage 로드 완료\n",
      "  📄 Passage 1/1 처리 중...\n",
      "\n",
      "✨ '제목을 붙인 근거 설명하기' 유형의 문항 생성을 시작합니다...\n",
      "✅ 최종 문항 생성 성공!\n",
      "\n",
      "✨ '자문화와 비교하기' 유형의 문항 생성을 시작합니다...\n",
      "✅ 최종 문항 생성 성공!\n",
      "\n",
      "✨ '원인과 전망 예측하기' 유형의 문항 생성을 시작합니다...\n",
      "✅ 최종 문항 생성 성공!\n",
      "  💾 Saving results to '/home/sjin4861/25-1/HCLT/iSKA_Gen/src/data/raw_outputs/2025-07-28/stem/Midm-2.0-Base-Instruct/benchmark_1_v1.0.0_stem_agent.few_shot_stem.json'...\n",
      "  ✅ Save complete.\n",
      "✅ 벤치마크 ID 1에 대한 stem 생성 완료 및 저장: /home/sjin4861/25-1/HCLT/iSKA_Gen/src/data/raw_outputs/2025-07-28/stem/Midm-2.0-Base-Instruct/benchmark_1_v1.0.0_stem_agent.few_shot_stem.json\n",
      "\n",
      "📝 벤치마크 ID 2에 대한 stem 생성 중...\n",
      "✅ Loaded: benchmark_2_v1.0.0_passage_agent.create_passage_rubric_aware.json\n",
      "✅ Found passage file with exact template: passage_agent.create_passage_rubric_aware\n",
      "✅ 1개의 passage 로드 완료\n",
      "  📄 Passage 1/1 처리 중...\n",
      "\n",
      "✨ '찬성/반대 입장 논거 파악하기' 유형의 문항 생성을 시작합니다...\n",
      "✅ 최종 문항 생성 성공!\n",
      "\n",
      "✨ '논리적 근거 제시하기' 유형의 문항 생성을 시작합니다...\n",
      "✅ 최종 문항 생성 성공!\n",
      "\n",
      "✨ '예상 반론에 재반박하기' 유형의 문항 생성을 시작합니다...\n",
      "✅ 최종 문항 생성 성공!\n",
      "  💾 Saving results to '/home/sjin4861/25-1/HCLT/iSKA_Gen/src/data/raw_outputs/2025-07-28/stem/Midm-2.0-Base-Instruct/benchmark_2_v1.0.0_stem_agent.few_shot_stem.json'...\n",
      "  ✅ Save complete.\n",
      "✅ 벤치마크 ID 2에 대한 stem 생성 완료 및 저장: /home/sjin4861/25-1/HCLT/iSKA_Gen/src/data/raw_outputs/2025-07-28/stem/Midm-2.0-Base-Instruct/benchmark_2_v1.0.0_stem_agent.few_shot_stem.json\n",
      "\n",
      "📝 벤치마크 ID 3에 대한 stem 생성 중...\n",
      "✅ Loaded: benchmark_3_v1.0.0_passage_agent.create_passage_rubric_aware.json\n",
      "✅ Found passage file with exact template: passage_agent.create_passage_rubric_aware\n",
      "✅ 1개의 passage 로드 완료\n",
      "  📄 Passage 1/1 처리 중...\n",
      "\n",
      "✨ '문제 상황 요약하기' 유형의 문항 생성을 시작합니다...\n",
      "✅ 최종 문항 생성 성공!\n",
      "\n",
      "✨ '문제 해결 방안 제안하기' 유형의 문항 생성을 시작합니다...\n",
      "✅ 최종 문항 생성 성공!\n",
      "\n",
      "✨ '기대 효과 및 부작용 설명하기' 유형의 문항 생성을 시작합니다...\n",
      "✅ 최종 문항 생성 성공!\n",
      "  💾 Saving results to '/home/sjin4861/25-1/HCLT/iSKA_Gen/src/data/raw_outputs/2025-07-28/stem/Midm-2.0-Base-Instruct/benchmark_3_v1.0.0_stem_agent.few_shot_stem.json'...\n",
      "  ✅ Save complete.\n",
      "✅ 벤치마크 ID 3에 대한 stem 생성 완료 및 저장: /home/sjin4861/25-1/HCLT/iSKA_Gen/src/data/raw_outputs/2025-07-28/stem/Midm-2.0-Base-Instruct/benchmark_3_v1.0.0_stem_agent.few_shot_stem.json\n",
      "\n",
      "📝 벤치마크 ID 4에 대한 stem 생성 중...\n",
      "✅ Loaded: benchmark_4_v1.0.0_passage_agent.create_passage_rubric_aware.json\n",
      "✅ Found passage file with exact template: passage_agent.create_passage_rubric_aware\n",
      "✅ 1개의 passage 로드 완료\n",
      "  📄 Passage 1/1 처리 중...\n",
      "\n",
      "✨ '두 대안의 핵심 차이점 파악하기' 유형의 문항 생성을 시작합니다...\n",
      "✅ 최종 문항 생성 성공!\n",
      "\n",
      "✨ '주어진 기준에 따라 장단점 분석하기' 유형의 문항 생성을 시작합니다...\n",
      "✅ 최종 문항 생성 성공!\n",
      "\n",
      "✨ '최종 선택 및 결정 이유 정당화하기' 유형의 문항 생성을 시작합니다...\n",
      "✅ 최종 문항 생성 성공!\n",
      "  💾 Saving results to '/home/sjin4861/25-1/HCLT/iSKA_Gen/src/data/raw_outputs/2025-07-28/stem/Midm-2.0-Base-Instruct/benchmark_4_v1.0.0_stem_agent.few_shot_stem.json'...\n",
      "  ✅ Save complete.\n",
      "✅ 벤치마크 ID 4에 대한 stem 생성 완료 및 저장: /home/sjin4861/25-1/HCLT/iSKA_Gen/src/data/raw_outputs/2025-07-28/stem/Midm-2.0-Base-Instruct/benchmark_4_v1.0.0_stem_agent.few_shot_stem.json\n",
      "\n",
      "📝 벤치마크 ID 5에 대한 stem 생성 중...\n",
      "✅ Loaded: benchmark_5_v1.0.0_passage_agent.create_passage_rubric_aware.json\n",
      "✅ Found passage file with exact template: passage_agent.create_passage_rubric_aware\n",
      "✅ 1개의 passage 로드 완료\n",
      "  📄 Passage 1/1 처리 중...\n",
      "\n",
      "✨ '발표의 핵심 목적 파악하기' 유형의 문항 생성을 시작합니다...\n",
      "✅ 최종 문항 생성 성공!\n",
      "\n",
      "✨ '세부 내용 및 근거 설명하기' 유형의 문항 생성을 시작합니다...\n",
      "✅ 최종 문항 생성 성공!\n",
      "\n",
      "✨ '전체 내용 요약 및 재구성하기' 유형의 문항 생성을 시작합니다...\n",
      "✅ 최종 문항 생성 성공!\n",
      "  💾 Saving results to '/home/sjin4861/25-1/HCLT/iSKA_Gen/src/data/raw_outputs/2025-07-28/stem/Midm-2.0-Base-Instruct/benchmark_5_v1.0.0_stem_agent.few_shot_stem.json'...\n",
      "  ✅ Save complete.\n",
      "✅ 벤치마크 ID 5에 대한 stem 생성 완료 및 저장: /home/sjin4861/25-1/HCLT/iSKA_Gen/src/data/raw_outputs/2025-07-28/stem/Midm-2.0-Base-Instruct/benchmark_5_v1.0.0_stem_agent.few_shot_stem.json\n",
      "🎯 CUDA_VISIBLE_DEVICES 설정: 2,3\n",
      "🧹 CUDA 캐시 정리 완료\n",
      "🎯 다중 GPU 모드: 실제 GPU [2, 3] → 논리적 GPU 0~1\n",
      "🔗 디바이스 매핑: {'cuda:0': 'cuda:0', 'cuda:1': 'cuda:1'}\n",
      "🔄 로컬 모델 로딩 중: /home/sjin4861/models/EXAONE-3.5-7.8B-Instruct...\n",
      "📊 GPU 메모리 상태:\n",
      "   논리적 GPU 0 (실제 GPU 2): 0.0GB 할당, 0.0GB 캐시, 23.7GB 총용량\n",
      "   논리적 GPU 1 (실제 GPU 3): 0.0GB 할당, 0.0GB 캐시, 23.7GB 총용량\n",
      "🔧 모델 로딩 옵션: device_map={'cuda:0': 'cuda:0', 'cuda:1': 'cuda:1'}\n"
     ]
    },
    {
     "data": {
      "application/vnd.jupyter.widget-view+json": {
       "model_id": "54681710d8474ffebd7120dd51b56393",
       "version_major": 2,
       "version_minor": 0
      },
      "text/plain": [
       "Loading checkpoint shards:   0%|          | 0/7 [00:00<?, ?it/s]"
      ]
     },
     "metadata": {},
     "output_type": "display_data"
    },
    {
     "name": "stdout",
     "output_type": "stream",
     "text": [
      "❌ 모델 로딩 실패: transformer.h.0.attn.attention.k_proj.weight doesn't have any device set.\n",
      "🔄 보수적인 설정으로 재시도...\n"
     ]
    },
    {
     "data": {
      "application/vnd.jupyter.widget-view+json": {
       "model_id": "c60f488b4453443a86d841cc39c62e48",
       "version_major": 2,
       "version_minor": 0
      },
      "text/plain": [
       "Loading checkpoint shards:   0%|          | 0/7 [00:00<?, ?it/s]"
      ]
     },
     "metadata": {},
     "output_type": "display_data"
    },
    {
     "name": "stdout",
     "output_type": "stream",
     "text": [
      "🔧 모델을 cuda:2로 이동 완료\n",
      "✅ 로컬 모델 로딩 완료 (cuda:2)\n",
      "✅ 문항(Stem) 생성 에이전트가 초기화되었습니다.\n",
      "\n",
      "📝 벤치마크 ID 1에 대한 stem 생성 중...\n",
      "✅ Loaded: benchmark_1_v1.0.0_passage_agent.create_passage_rubric_aware.json\n",
      "✅ Found passage file with exact template: passage_agent.create_passage_rubric_aware\n",
      "✅ 1개의 passage 로드 완료\n",
      "  📄 Passage 1/1 처리 중...\n",
      "\n",
      "✨ '제목을 붙인 근거 설명하기' 유형의 문항 생성을 시작합니다...\n",
      "✅ 최종 문항 생성 성공!\n",
      "\n",
      "✨ '자문화와 비교하기' 유형의 문항 생성을 시작합니다...\n",
      "✅ 최종 문항 생성 성공!\n",
      "\n",
      "✨ '원인과 전망 예측하기' 유형의 문항 생성을 시작합니다...\n",
      "✅ 최종 문항 생성 성공!\n",
      "  💾 Saving results to '/home/sjin4861/25-1/HCLT/iSKA_Gen/src/data/raw_outputs/2025-07-28/stem/EXAONE-3.5-7.8B-Instruct/benchmark_1_v1.0.0_stem_agent.few_shot_stem.json'...\n",
      "  ✅ Save complete.\n",
      "✅ 벤치마크 ID 1에 대한 stem 생성 완료 및 저장: /home/sjin4861/25-1/HCLT/iSKA_Gen/src/data/raw_outputs/2025-07-28/stem/EXAONE-3.5-7.8B-Instruct/benchmark_1_v1.0.0_stem_agent.few_shot_stem.json\n",
      "\n",
      "📝 벤치마크 ID 2에 대한 stem 생성 중...\n",
      "✅ Loaded: benchmark_2_v1.0.0_passage_agent.create_passage_rubric_aware.json\n",
      "✅ Found passage file with exact template: passage_agent.create_passage_rubric_aware\n",
      "✅ 1개의 passage 로드 완료\n",
      "  📄 Passage 1/1 처리 중...\n",
      "\n",
      "✨ '찬성/반대 입장 논거 파악하기' 유형의 문항 생성을 시작합니다...\n",
      "✅ 최종 문항 생성 성공!\n",
      "\n",
      "✨ '논리적 근거 제시하기' 유형의 문항 생성을 시작합니다...\n",
      "✅ 최종 문항 생성 성공!\n",
      "\n",
      "✨ '예상 반론에 재반박하기' 유형의 문항 생성을 시작합니다...\n",
      "✅ 최종 문항 생성 성공!\n",
      "  💾 Saving results to '/home/sjin4861/25-1/HCLT/iSKA_Gen/src/data/raw_outputs/2025-07-28/stem/EXAONE-3.5-7.8B-Instruct/benchmark_2_v1.0.0_stem_agent.few_shot_stem.json'...\n",
      "  ✅ Save complete.\n",
      "✅ 벤치마크 ID 2에 대한 stem 생성 완료 및 저장: /home/sjin4861/25-1/HCLT/iSKA_Gen/src/data/raw_outputs/2025-07-28/stem/EXAONE-3.5-7.8B-Instruct/benchmark_2_v1.0.0_stem_agent.few_shot_stem.json\n",
      "\n",
      "📝 벤치마크 ID 3에 대한 stem 생성 중...\n",
      "✅ Loaded: benchmark_3_v1.0.0_passage_agent.create_passage_rubric_aware.json\n",
      "✅ Found passage file with exact template: passage_agent.create_passage_rubric_aware\n",
      "✅ 1개의 passage 로드 완료\n",
      "  📄 Passage 1/1 처리 중...\n",
      "\n",
      "✨ '문제 상황 요약하기' 유형의 문항 생성을 시작합니다...\n",
      "✅ 최종 문항 생성 성공!\n",
      "\n",
      "✨ '문제 해결 방안 제안하기' 유형의 문항 생성을 시작합니다...\n",
      "✅ 최종 문항 생성 성공!\n",
      "\n",
      "✨ '기대 효과 및 부작용 설명하기' 유형의 문항 생성을 시작합니다...\n",
      "✅ 최종 문항 생성 성공!\n",
      "  💾 Saving results to '/home/sjin4861/25-1/HCLT/iSKA_Gen/src/data/raw_outputs/2025-07-28/stem/EXAONE-3.5-7.8B-Instruct/benchmark_3_v1.0.0_stem_agent.few_shot_stem.json'...\n",
      "  ✅ Save complete.\n",
      "✅ 벤치마크 ID 3에 대한 stem 생성 완료 및 저장: /home/sjin4861/25-1/HCLT/iSKA_Gen/src/data/raw_outputs/2025-07-28/stem/EXAONE-3.5-7.8B-Instruct/benchmark_3_v1.0.0_stem_agent.few_shot_stem.json\n",
      "\n",
      "📝 벤치마크 ID 4에 대한 stem 생성 중...\n",
      "✅ Loaded: benchmark_4_v1.0.0_passage_agent.create_passage_rubric_aware.json\n",
      "✅ Found passage file with exact template: passage_agent.create_passage_rubric_aware\n",
      "✅ 1개의 passage 로드 완료\n",
      "  📄 Passage 1/1 처리 중...\n",
      "\n",
      "✨ '두 대안의 핵심 차이점 파악하기' 유형의 문항 생성을 시작합니다...\n",
      "✅ 최종 문항 생성 성공!\n",
      "\n",
      "✨ '주어진 기준에 따라 장단점 분석하기' 유형의 문항 생성을 시작합니다...\n",
      "✅ 최종 문항 생성 성공!\n",
      "\n",
      "✨ '최종 선택 및 결정 이유 정당화하기' 유형의 문항 생성을 시작합니다...\n",
      "✅ 최종 문항 생성 성공!\n",
      "  💾 Saving results to '/home/sjin4861/25-1/HCLT/iSKA_Gen/src/data/raw_outputs/2025-07-28/stem/EXAONE-3.5-7.8B-Instruct/benchmark_4_v1.0.0_stem_agent.few_shot_stem.json'...\n",
      "  ✅ Save complete.\n",
      "✅ 벤치마크 ID 4에 대한 stem 생성 완료 및 저장: /home/sjin4861/25-1/HCLT/iSKA_Gen/src/data/raw_outputs/2025-07-28/stem/EXAONE-3.5-7.8B-Instruct/benchmark_4_v1.0.0_stem_agent.few_shot_stem.json\n",
      "\n",
      "📝 벤치마크 ID 5에 대한 stem 생성 중...\n",
      "✅ Loaded: benchmark_5_v1.0.0_passage_agent.create_passage_rubric_aware.json\n",
      "✅ Found passage file with exact template: passage_agent.create_passage_rubric_aware\n",
      "✅ 1개의 passage 로드 완료\n",
      "  📄 Passage 1/1 처리 중...\n",
      "\n",
      "✨ '발표의 핵심 목적 파악하기' 유형의 문항 생성을 시작합니다...\n",
      "✅ 최종 문항 생성 성공!\n",
      "\n",
      "✨ '세부 내용 및 근거 설명하기' 유형의 문항 생성을 시작합니다...\n",
      "✅ 최종 문항 생성 성공!\n",
      "\n",
      "✨ '전체 내용 요약 및 재구성하기' 유형의 문항 생성을 시작합니다...\n",
      "✅ 최종 문항 생성 성공!\n",
      "  💾 Saving results to '/home/sjin4861/25-1/HCLT/iSKA_Gen/src/data/raw_outputs/2025-07-28/stem/EXAONE-3.5-7.8B-Instruct/benchmark_5_v1.0.0_stem_agent.few_shot_stem.json'...\n",
      "  ✅ Save complete.\n",
      "✅ 벤치마크 ID 5에 대한 stem 생성 완료 및 저장: /home/sjin4861/25-1/HCLT/iSKA_Gen/src/data/raw_outputs/2025-07-28/stem/EXAONE-3.5-7.8B-Instruct/benchmark_5_v1.0.0_stem_agent.few_shot_stem.json\n",
      "🎯 CUDA_VISIBLE_DEVICES 설정: 2,3\n",
      "🧹 CUDA 캐시 정리 완료\n",
      "🎯 다중 GPU 모드: 실제 GPU [2, 3] → 논리적 GPU 0~1\n",
      "🔗 디바이스 매핑: {'cuda:0': 'cuda:0', 'cuda:1': 'cuda:1'}\n",
      "🔄 로컬 모델 로딩 중: /home/sjin4861/models/A.X-4.0-Light...\n",
      "📊 GPU 메모리 상태:\n",
      "   논리적 GPU 0 (실제 GPU 2): 0.0GB 할당, 0.0GB 캐시, 23.7GB 총용량\n",
      "   논리적 GPU 1 (실제 GPU 3): 0.0GB 할당, 0.0GB 캐시, 23.7GB 총용량\n",
      "🔧 모델 로딩 옵션: device_map={'cuda:0': 'cuda:0', 'cuda:1': 'cuda:1'}\n"
     ]
    },
    {
     "data": {
      "application/vnd.jupyter.widget-view+json": {
       "model_id": "4028e2551de6493e9cf5393594055377",
       "version_major": 2,
       "version_minor": 0
      },
      "text/plain": [
       "Loading checkpoint shards:   0%|          | 0/3 [00:00<?, ?it/s]"
      ]
     },
     "metadata": {},
     "output_type": "display_data"
    },
    {
     "name": "stdout",
     "output_type": "stream",
     "text": [
      "❌ 모델 로딩 실패: model.embed_tokens.weight doesn't have any device set.\n",
      "🔄 보수적인 설정으로 재시도...\n"
     ]
    },
    {
     "data": {
      "application/vnd.jupyter.widget-view+json": {
       "model_id": "f48f32fb19614d32b0d3031e96eaca2d",
       "version_major": 2,
       "version_minor": 0
      },
      "text/plain": [
       "Loading checkpoint shards:   0%|          | 0/3 [00:00<?, ?it/s]"
      ]
     },
     "metadata": {},
     "output_type": "display_data"
    },
    {
     "name": "stdout",
     "output_type": "stream",
     "text": [
      "🔧 모델을 cuda:2로 이동 완료\n",
      "✅ 로컬 모델 로딩 완료 (cuda:2)\n",
      "✅ 문항(Stem) 생성 에이전트가 초기화되었습니다.\n",
      "\n",
      "📝 벤치마크 ID 1에 대한 stem 생성 중...\n",
      "✅ Loaded: benchmark_1_v1.0.0_passage_agent.create_passage_rubric_aware.json\n",
      "✅ Found passage file with exact template: passage_agent.create_passage_rubric_aware\n",
      "✅ 1개의 passage 로드 완료\n",
      "  📄 Passage 1/1 처리 중...\n",
      "\n",
      "✨ '제목을 붙인 근거 설명하기' 유형의 문항 생성을 시작합니다...\n",
      "✅ 최종 문항 생성 성공!\n",
      "\n",
      "✨ '자문화와 비교하기' 유형의 문항 생성을 시작합니다...\n",
      "✅ 최종 문항 생성 성공!\n",
      "\n",
      "✨ '원인과 전망 예측하기' 유형의 문항 생성을 시작합니다...\n",
      "✅ 최종 문항 생성 성공!\n",
      "  💾 Saving results to '/home/sjin4861/25-1/HCLT/iSKA_Gen/src/data/raw_outputs/2025-07-28/stem/A.X-4.0-Light/benchmark_1_v1.0.0_stem_agent.few_shot_stem.json'...\n",
      "  ✅ Save complete.\n",
      "✅ 벤치마크 ID 1에 대한 stem 생성 완료 및 저장: /home/sjin4861/25-1/HCLT/iSKA_Gen/src/data/raw_outputs/2025-07-28/stem/A.X-4.0-Light/benchmark_1_v1.0.0_stem_agent.few_shot_stem.json\n",
      "\n",
      "📝 벤치마크 ID 2에 대한 stem 생성 중...\n",
      "✅ Loaded: benchmark_2_v1.0.0_passage_agent.create_passage_rubric_aware.json\n",
      "✅ Found passage file with exact template: passage_agent.create_passage_rubric_aware\n",
      "✅ 1개의 passage 로드 완료\n",
      "  📄 Passage 1/1 처리 중...\n",
      "\n",
      "✨ '찬성/반대 입장 논거 파악하기' 유형의 문항 생성을 시작합니다...\n",
      "✅ 최종 문항 생성 성공!\n",
      "\n",
      "✨ '논리적 근거 제시하기' 유형의 문항 생성을 시작합니다...\n",
      "✅ 최종 문항 생성 성공!\n",
      "\n",
      "✨ '예상 반론에 재반박하기' 유형의 문항 생성을 시작합니다...\n",
      "✅ 최종 문항 생성 성공!\n",
      "  💾 Saving results to '/home/sjin4861/25-1/HCLT/iSKA_Gen/src/data/raw_outputs/2025-07-28/stem/A.X-4.0-Light/benchmark_2_v1.0.0_stem_agent.few_shot_stem.json'...\n",
      "  ✅ Save complete.\n",
      "✅ 벤치마크 ID 2에 대한 stem 생성 완료 및 저장: /home/sjin4861/25-1/HCLT/iSKA_Gen/src/data/raw_outputs/2025-07-28/stem/A.X-4.0-Light/benchmark_2_v1.0.0_stem_agent.few_shot_stem.json\n",
      "\n",
      "📝 벤치마크 ID 3에 대한 stem 생성 중...\n",
      "✅ Loaded: benchmark_3_v1.0.0_passage_agent.create_passage_rubric_aware.json\n",
      "✅ Found passage file with exact template: passage_agent.create_passage_rubric_aware\n",
      "✅ 1개의 passage 로드 완료\n",
      "  📄 Passage 1/1 처리 중...\n",
      "\n",
      "✨ '문제 상황 요약하기' 유형의 문항 생성을 시작합니다...\n",
      "✅ 최종 문항 생성 성공!\n",
      "\n",
      "✨ '문제 해결 방안 제안하기' 유형의 문항 생성을 시작합니다...\n",
      "✅ 최종 문항 생성 성공!\n",
      "\n",
      "✨ '기대 효과 및 부작용 설명하기' 유형의 문항 생성을 시작합니다...\n",
      "✅ 최종 문항 생성 성공!\n",
      "  💾 Saving results to '/home/sjin4861/25-1/HCLT/iSKA_Gen/src/data/raw_outputs/2025-07-28/stem/A.X-4.0-Light/benchmark_3_v1.0.0_stem_agent.few_shot_stem.json'...\n",
      "  ✅ Save complete.\n",
      "✅ 벤치마크 ID 3에 대한 stem 생성 완료 및 저장: /home/sjin4861/25-1/HCLT/iSKA_Gen/src/data/raw_outputs/2025-07-28/stem/A.X-4.0-Light/benchmark_3_v1.0.0_stem_agent.few_shot_stem.json\n",
      "\n",
      "📝 벤치마크 ID 4에 대한 stem 생성 중...\n",
      "✅ Loaded: benchmark_4_v1.0.0_passage_agent.create_passage_rubric_aware.json\n",
      "✅ Found passage file with exact template: passage_agent.create_passage_rubric_aware\n",
      "✅ 1개의 passage 로드 완료\n",
      "  📄 Passage 1/1 처리 중...\n",
      "\n",
      "✨ '두 대안의 핵심 차이점 파악하기' 유형의 문항 생성을 시작합니다...\n",
      "✅ 최종 문항 생성 성공!\n",
      "\n",
      "✨ '주어진 기준에 따라 장단점 분석하기' 유형의 문항 생성을 시작합니다...\n",
      "✅ 최종 문항 생성 성공!\n",
      "\n",
      "✨ '최종 선택 및 결정 이유 정당화하기' 유형의 문항 생성을 시작합니다...\n",
      "✅ 최종 문항 생성 성공!\n",
      "  💾 Saving results to '/home/sjin4861/25-1/HCLT/iSKA_Gen/src/data/raw_outputs/2025-07-28/stem/A.X-4.0-Light/benchmark_4_v1.0.0_stem_agent.few_shot_stem.json'...\n",
      "  ✅ Save complete.\n",
      "✅ 벤치마크 ID 4에 대한 stem 생성 완료 및 저장: /home/sjin4861/25-1/HCLT/iSKA_Gen/src/data/raw_outputs/2025-07-28/stem/A.X-4.0-Light/benchmark_4_v1.0.0_stem_agent.few_shot_stem.json\n",
      "\n",
      "📝 벤치마크 ID 5에 대한 stem 생성 중...\n",
      "✅ Loaded: benchmark_5_v1.0.0_passage_agent.create_passage_rubric_aware.json\n",
      "✅ Found passage file with exact template: passage_agent.create_passage_rubric_aware\n",
      "✅ 1개의 passage 로드 완료\n",
      "  📄 Passage 1/1 처리 중...\n",
      "\n",
      "✨ '발표의 핵심 목적 파악하기' 유형의 문항 생성을 시작합니다...\n",
      "✅ 최종 문항 생성 성공!\n",
      "\n",
      "✨ '세부 내용 및 근거 설명하기' 유형의 문항 생성을 시작합니다...\n",
      "✅ 최종 문항 생성 성공!\n",
      "\n",
      "✨ '전체 내용 요약 및 재구성하기' 유형의 문항 생성을 시작합니다...\n",
      "✅ 최종 문항 생성 성공!\n",
      "  💾 Saving results to '/home/sjin4861/25-1/HCLT/iSKA_Gen/src/data/raw_outputs/2025-07-28/stem/A.X-4.0-Light/benchmark_5_v1.0.0_stem_agent.few_shot_stem.json'...\n",
      "  ✅ Save complete.\n",
      "✅ 벤치마크 ID 5에 대한 stem 생성 완료 및 저장: /home/sjin4861/25-1/HCLT/iSKA_Gen/src/data/raw_outputs/2025-07-28/stem/A.X-4.0-Light/benchmark_5_v1.0.0_stem_agent.few_shot_stem.json\n",
      "🎯 CUDA_VISIBLE_DEVICES 설정: 2,3\n",
      "🧹 CUDA 캐시 정리 완료\n",
      "🎯 다중 GPU 모드: 실제 GPU [2, 3] → 논리적 GPU 0~1\n",
      "🔗 디바이스 매핑: {'cuda:0': 'cuda:0', 'cuda:1': 'cuda:1'}\n",
      "🔄 로컬 모델 로딩 중: /home/sjin4861/models/llama3.1_korean_v1.1_sft_by_aidx...\n",
      "📊 GPU 메모리 상태:\n",
      "   논리적 GPU 0 (실제 GPU 2): 0.0GB 할당, 0.0GB 캐시, 23.7GB 총용량\n",
      "   논리적 GPU 1 (실제 GPU 3): 0.0GB 할당, 0.0GB 캐시, 23.7GB 총용량\n",
      "🔧 모델 로딩 옵션: device_map={'cuda:0': 'cuda:0', 'cuda:1': 'cuda:1'}\n"
     ]
    },
    {
     "data": {
      "application/vnd.jupyter.widget-view+json": {
       "model_id": "66c16299a4fa4c7392b2fd7727ecb7b9",
       "version_major": 2,
       "version_minor": 0
      },
      "text/plain": [
       "Loading checkpoint shards:   0%|          | 0/4 [00:00<?, ?it/s]"
      ]
     },
     "metadata": {},
     "output_type": "display_data"
    },
    {
     "name": "stdout",
     "output_type": "stream",
     "text": [
      "❌ 모델 로딩 실패: model.embed_tokens.weight doesn't have any device set.\n",
      "🔄 보수적인 설정으로 재시도...\n"
     ]
    },
    {
     "data": {
      "application/vnd.jupyter.widget-view+json": {
       "model_id": "5cfce1d87dec4281bf84c3a3c7483d45",
       "version_major": 2,
       "version_minor": 0
      },
      "text/plain": [
       "Loading checkpoint shards:   0%|          | 0/4 [00:00<?, ?it/s]"
      ]
     },
     "metadata": {},
     "output_type": "display_data"
    },
    {
     "name": "stdout",
     "output_type": "stream",
     "text": [
      "🔧 모델을 cuda:2로 이동 완료\n",
      "✅ 로컬 모델 로딩 완료 (cuda:2)\n",
      "✅ 문항(Stem) 생성 에이전트가 초기화되었습니다.\n",
      "\n",
      "📝 벤치마크 ID 1에 대한 stem 생성 중...\n",
      "✅ Loaded: benchmark_1_v1.0.0_passage_agent.create_passage_rubric_aware.json\n",
      "✅ Found passage file with exact template: passage_agent.create_passage_rubric_aware\n",
      "✅ 1개의 passage 로드 완료\n",
      "  📄 Passage 1/1 처리 중...\n",
      "\n",
      "✨ '제목을 붙인 근거 설명하기' 유형의 문항 생성을 시작합니다...\n",
      "✅ 최종 문항 생성 성공!\n",
      "\n",
      "✨ '자문화와 비교하기' 유형의 문항 생성을 시작합니다...\n",
      "✅ 최종 문항 생성 성공!\n",
      "\n",
      "✨ '원인과 전망 예측하기' 유형의 문항 생성을 시작합니다...\n",
      "✅ 최종 문항 생성 성공!\n",
      "  💾 Saving results to '/home/sjin4861/25-1/HCLT/iSKA_Gen/src/data/raw_outputs/2025-07-28/stem/llama3.1_korean_v1.1_sft_by_aidx/benchmark_1_v1.0.0_stem_agent.few_shot_stem.json'...\n",
      "  ✅ Save complete.\n",
      "✅ 벤치마크 ID 1에 대한 stem 생성 완료 및 저장: /home/sjin4861/25-1/HCLT/iSKA_Gen/src/data/raw_outputs/2025-07-28/stem/llama3.1_korean_v1.1_sft_by_aidx/benchmark_1_v1.0.0_stem_agent.few_shot_stem.json\n",
      "\n",
      "📝 벤치마크 ID 2에 대한 stem 생성 중...\n",
      "✅ Loaded: benchmark_2_v1.0.0_passage_agent.create_passage_rubric_aware.json\n",
      "✅ Found passage file with exact template: passage_agent.create_passage_rubric_aware\n",
      "✅ 1개의 passage 로드 완료\n",
      "  📄 Passage 1/1 처리 중...\n",
      "\n",
      "✨ '찬성/반대 입장 논거 파악하기' 유형의 문항 생성을 시작합니다...\n",
      "✅ 최종 문항 생성 성공!\n",
      "\n",
      "✨ '논리적 근거 제시하기' 유형의 문항 생성을 시작합니다...\n",
      "✅ 최종 문항 생성 성공!\n",
      "\n",
      "✨ '예상 반론에 재반박하기' 유형의 문항 생성을 시작합니다...\n",
      "✅ 최종 문항 생성 성공!\n",
      "  💾 Saving results to '/home/sjin4861/25-1/HCLT/iSKA_Gen/src/data/raw_outputs/2025-07-28/stem/llama3.1_korean_v1.1_sft_by_aidx/benchmark_2_v1.0.0_stem_agent.few_shot_stem.json'...\n",
      "  ✅ Save complete.\n",
      "✅ 벤치마크 ID 2에 대한 stem 생성 완료 및 저장: /home/sjin4861/25-1/HCLT/iSKA_Gen/src/data/raw_outputs/2025-07-28/stem/llama3.1_korean_v1.1_sft_by_aidx/benchmark_2_v1.0.0_stem_agent.few_shot_stem.json\n",
      "\n",
      "📝 벤치마크 ID 3에 대한 stem 생성 중...\n",
      "✅ Loaded: benchmark_3_v1.0.0_passage_agent.create_passage_rubric_aware.json\n",
      "✅ Found passage file with exact template: passage_agent.create_passage_rubric_aware\n",
      "✅ 1개의 passage 로드 완료\n",
      "  📄 Passage 1/1 처리 중...\n",
      "\n",
      "✨ '문제 상황 요약하기' 유형의 문항 생성을 시작합니다...\n",
      "✅ 최종 문항 생성 성공!\n",
      "\n",
      "✨ '문제 해결 방안 제안하기' 유형의 문항 생성을 시작합니다...\n",
      "✅ 최종 문항 생성 성공!\n",
      "\n",
      "✨ '기대 효과 및 부작용 설명하기' 유형의 문항 생성을 시작합니다...\n",
      "✅ 최종 문항 생성 성공!\n",
      "  💾 Saving results to '/home/sjin4861/25-1/HCLT/iSKA_Gen/src/data/raw_outputs/2025-07-28/stem/llama3.1_korean_v1.1_sft_by_aidx/benchmark_3_v1.0.0_stem_agent.few_shot_stem.json'...\n",
      "  ✅ Save complete.\n",
      "✅ 벤치마크 ID 3에 대한 stem 생성 완료 및 저장: /home/sjin4861/25-1/HCLT/iSKA_Gen/src/data/raw_outputs/2025-07-28/stem/llama3.1_korean_v1.1_sft_by_aidx/benchmark_3_v1.0.0_stem_agent.few_shot_stem.json\n",
      "\n",
      "📝 벤치마크 ID 4에 대한 stem 생성 중...\n",
      "✅ Loaded: benchmark_4_v1.0.0_passage_agent.create_passage_rubric_aware.json\n",
      "✅ Found passage file with exact template: passage_agent.create_passage_rubric_aware\n",
      "✅ 1개의 passage 로드 완료\n",
      "  📄 Passage 1/1 처리 중...\n",
      "\n",
      "✨ '두 대안의 핵심 차이점 파악하기' 유형의 문항 생성을 시작합니다...\n",
      "✅ 최종 문항 생성 성공!\n",
      "\n",
      "✨ '주어진 기준에 따라 장단점 분석하기' 유형의 문항 생성을 시작합니다...\n",
      "✅ 최종 문항 생성 성공!\n",
      "\n",
      "✨ '최종 선택 및 결정 이유 정당화하기' 유형의 문항 생성을 시작합니다...\n",
      "✅ 최종 문항 생성 성공!\n",
      "  💾 Saving results to '/home/sjin4861/25-1/HCLT/iSKA_Gen/src/data/raw_outputs/2025-07-28/stem/llama3.1_korean_v1.1_sft_by_aidx/benchmark_4_v1.0.0_stem_agent.few_shot_stem.json'...\n",
      "  ✅ Save complete.\n",
      "✅ 벤치마크 ID 4에 대한 stem 생성 완료 및 저장: /home/sjin4861/25-1/HCLT/iSKA_Gen/src/data/raw_outputs/2025-07-28/stem/llama3.1_korean_v1.1_sft_by_aidx/benchmark_4_v1.0.0_stem_agent.few_shot_stem.json\n",
      "\n",
      "📝 벤치마크 ID 5에 대한 stem 생성 중...\n",
      "✅ Loaded: benchmark_5_v1.0.0_passage_agent.create_passage_rubric_aware.json\n",
      "✅ Found passage file with exact template: passage_agent.create_passage_rubric_aware\n",
      "✅ 1개의 passage 로드 완료\n",
      "  📄 Passage 1/1 처리 중...\n",
      "\n",
      "✨ '발표의 핵심 목적 파악하기' 유형의 문항 생성을 시작합니다...\n",
      "✅ 최종 문항 생성 성공!\n",
      "\n",
      "✨ '세부 내용 및 근거 설명하기' 유형의 문항 생성을 시작합니다...\n",
      "✅ 최종 문항 생성 성공!\n",
      "\n",
      "✨ '전체 내용 요약 및 재구성하기' 유형의 문항 생성을 시작합니다...\n",
      "✅ 최종 문항 생성 성공!\n",
      "  💾 Saving results to '/home/sjin4861/25-1/HCLT/iSKA_Gen/src/data/raw_outputs/2025-07-28/stem/llama3.1_korean_v1.1_sft_by_aidx/benchmark_5_v1.0.0_stem_agent.few_shot_stem.json'...\n",
      "  ✅ Save complete.\n",
      "✅ 벤치마크 ID 5에 대한 stem 생성 완료 및 저장: /home/sjin4861/25-1/HCLT/iSKA_Gen/src/data/raw_outputs/2025-07-28/stem/llama3.1_korean_v1.1_sft_by_aidx/benchmark_5_v1.0.0_stem_agent.few_shot_stem.json\n",
      "🎯 CUDA_VISIBLE_DEVICES 설정: 2,3\n",
      "🧹 CUDA 캐시 정리 완료\n",
      "🎯 다중 GPU 모드: 실제 GPU [2, 3] → 논리적 GPU 0~1\n",
      "🔗 디바이스 매핑: {'cuda:0': 'cuda:0', 'cuda:1': 'cuda:1'}\n",
      "🔄 로컬 모델 로딩 중: /home/sjin4861/models/llama3-bllossom-3b...\n",
      "📊 GPU 메모리 상태:\n",
      "   논리적 GPU 0 (실제 GPU 2): 0.0GB 할당, 0.0GB 캐시, 23.7GB 총용량\n",
      "   논리적 GPU 1 (실제 GPU 3): 0.0GB 할당, 0.0GB 캐시, 23.7GB 총용량\n",
      "🔧 모델 로딩 옵션: device_map={'cuda:0': 'cuda:0', 'cuda:1': 'cuda:1'}\n",
      "❌ 모델 로딩 실패: The `device_map` does not contain the module .\n",
      "🔄 보수적인 설정으로 재시도...\n"
     ]
    },
    {
     "data": {
      "application/vnd.jupyter.widget-view+json": {
       "model_id": "0015e6dd783945d3977f8e7e726569d6",
       "version_major": 2,
       "version_minor": 0
      },
      "text/plain": [
       "Loading checkpoint shards:   0%|          | 0/2 [00:00<?, ?it/s]"
      ]
     },
     "metadata": {},
     "output_type": "display_data"
    },
    {
     "name": "stdout",
     "output_type": "stream",
     "text": [
      "🔧 모델을 cuda:2로 이동 완료\n",
      "✅ 로컬 모델 로딩 완료 (cuda:2)\n",
      "✅ 문항(Stem) 생성 에이전트가 초기화되었습니다.\n",
      "\n",
      "📝 벤치마크 ID 1에 대한 stem 생성 중...\n",
      "✅ Loaded: benchmark_1_v1.0.0_passage_agent.create_passage_rubric_aware.json\n",
      "✅ Found passage file with exact template: passage_agent.create_passage_rubric_aware\n",
      "✅ 1개의 passage 로드 완료\n",
      "  📄 Passage 1/1 처리 중...\n",
      "\n",
      "✨ '제목을 붙인 근거 설명하기' 유형의 문항 생성을 시작합니다...\n",
      "✅ 최종 문항 생성 성공!\n",
      "\n",
      "✨ '자문화와 비교하기' 유형의 문항 생성을 시작합니다...\n",
      "✅ 최종 문항 생성 성공!\n",
      "\n",
      "✨ '원인과 전망 예측하기' 유형의 문항 생성을 시작합니다...\n",
      "✅ 최종 문항 생성 성공!\n",
      "  💾 Saving results to '/home/sjin4861/25-1/HCLT/iSKA_Gen/src/data/raw_outputs/2025-07-28/stem/llama3-bllossom-3b/benchmark_1_v1.0.0_stem_agent.few_shot_stem.json'...\n",
      "  ✅ Save complete.\n",
      "✅ 벤치마크 ID 1에 대한 stem 생성 완료 및 저장: /home/sjin4861/25-1/HCLT/iSKA_Gen/src/data/raw_outputs/2025-07-28/stem/llama3-bllossom-3b/benchmark_1_v1.0.0_stem_agent.few_shot_stem.json\n",
      "\n",
      "📝 벤치마크 ID 2에 대한 stem 생성 중...\n",
      "✅ Loaded: benchmark_2_v1.0.0_passage_agent.create_passage_rubric_aware.json\n",
      "✅ Found passage file with exact template: passage_agent.create_passage_rubric_aware\n",
      "✅ 1개의 passage 로드 완료\n",
      "  📄 Passage 1/1 처리 중...\n",
      "\n",
      "✨ '찬성/반대 입장 논거 파악하기' 유형의 문항 생성을 시작합니다...\n",
      "✅ 최종 문항 생성 성공!\n",
      "\n",
      "✨ '논리적 근거 제시하기' 유형의 문항 생성을 시작합니다...\n",
      "✅ 최종 문항 생성 성공!\n",
      "\n",
      "✨ '예상 반론에 재반박하기' 유형의 문항 생성을 시작합니다...\n",
      "✅ 최종 문항 생성 성공!\n",
      "  💾 Saving results to '/home/sjin4861/25-1/HCLT/iSKA_Gen/src/data/raw_outputs/2025-07-28/stem/llama3-bllossom-3b/benchmark_2_v1.0.0_stem_agent.few_shot_stem.json'...\n",
      "  ✅ Save complete.\n",
      "✅ 벤치마크 ID 2에 대한 stem 생성 완료 및 저장: /home/sjin4861/25-1/HCLT/iSKA_Gen/src/data/raw_outputs/2025-07-28/stem/llama3-bllossom-3b/benchmark_2_v1.0.0_stem_agent.few_shot_stem.json\n",
      "\n",
      "📝 벤치마크 ID 3에 대한 stem 생성 중...\n",
      "✅ Loaded: benchmark_3_v1.0.0_passage_agent.create_passage_rubric_aware.json\n",
      "✅ Found passage file with exact template: passage_agent.create_passage_rubric_aware\n",
      "✅ 1개의 passage 로드 완료\n",
      "  📄 Passage 1/1 처리 중...\n",
      "\n",
      "✨ '문제 상황 요약하기' 유형의 문항 생성을 시작합니다...\n",
      "✅ 최종 문항 생성 성공!\n",
      "\n",
      "✨ '문제 해결 방안 제안하기' 유형의 문항 생성을 시작합니다...\n",
      "✅ 최종 문항 생성 성공!\n",
      "\n",
      "✨ '기대 효과 및 부작용 설명하기' 유형의 문항 생성을 시작합니다...\n",
      "✅ 최종 문항 생성 성공!\n",
      "  💾 Saving results to '/home/sjin4861/25-1/HCLT/iSKA_Gen/src/data/raw_outputs/2025-07-28/stem/llama3-bllossom-3b/benchmark_3_v1.0.0_stem_agent.few_shot_stem.json'...\n",
      "  ✅ Save complete.\n",
      "✅ 벤치마크 ID 3에 대한 stem 생성 완료 및 저장: /home/sjin4861/25-1/HCLT/iSKA_Gen/src/data/raw_outputs/2025-07-28/stem/llama3-bllossom-3b/benchmark_3_v1.0.0_stem_agent.few_shot_stem.json\n",
      "\n",
      "📝 벤치마크 ID 4에 대한 stem 생성 중...\n",
      "✅ Loaded: benchmark_4_v1.0.0_passage_agent.create_passage_rubric_aware.json\n",
      "✅ Found passage file with exact template: passage_agent.create_passage_rubric_aware\n",
      "✅ 1개의 passage 로드 완료\n",
      "  📄 Passage 1/1 처리 중...\n",
      "\n",
      "✨ '두 대안의 핵심 차이점 파악하기' 유형의 문항 생성을 시작합니다...\n",
      "✅ 최종 문항 생성 성공!\n",
      "\n",
      "✨ '주어진 기준에 따라 장단점 분석하기' 유형의 문항 생성을 시작합니다...\n",
      "✅ 최종 문항 생성 성공!\n",
      "\n",
      "✨ '최종 선택 및 결정 이유 정당화하기' 유형의 문항 생성을 시작합니다...\n",
      "✅ 최종 문항 생성 성공!\n",
      "  💾 Saving results to '/home/sjin4861/25-1/HCLT/iSKA_Gen/src/data/raw_outputs/2025-07-28/stem/llama3-bllossom-3b/benchmark_4_v1.0.0_stem_agent.few_shot_stem.json'...\n",
      "  ✅ Save complete.\n",
      "✅ 벤치마크 ID 4에 대한 stem 생성 완료 및 저장: /home/sjin4861/25-1/HCLT/iSKA_Gen/src/data/raw_outputs/2025-07-28/stem/llama3-bllossom-3b/benchmark_4_v1.0.0_stem_agent.few_shot_stem.json\n",
      "\n",
      "📝 벤치마크 ID 5에 대한 stem 생성 중...\n",
      "✅ Loaded: benchmark_5_v1.0.0_passage_agent.create_passage_rubric_aware.json\n",
      "✅ Found passage file with exact template: passage_agent.create_passage_rubric_aware\n",
      "✅ 1개의 passage 로드 완료\n",
      "  📄 Passage 1/1 처리 중...\n",
      "\n",
      "✨ '발표의 핵심 목적 파악하기' 유형의 문항 생성을 시작합니다...\n",
      "✅ 최종 문항 생성 성공!\n",
      "\n",
      "✨ '세부 내용 및 근거 설명하기' 유형의 문항 생성을 시작합니다...\n",
      "✅ 최종 문항 생성 성공!\n",
      "\n",
      "✨ '전체 내용 요약 및 재구성하기' 유형의 문항 생성을 시작합니다...\n",
      "✅ 최종 문항 생성 성공!\n",
      "  💾 Saving results to '/home/sjin4861/25-1/HCLT/iSKA_Gen/src/data/raw_outputs/2025-07-28/stem/llama3-bllossom-3b/benchmark_5_v1.0.0_stem_agent.few_shot_stem.json'...\n",
      "  ✅ Save complete.\n",
      "✅ 벤치마크 ID 5에 대한 stem 생성 완료 및 저장: /home/sjin4861/25-1/HCLT/iSKA_Gen/src/data/raw_outputs/2025-07-28/stem/llama3-bllossom-3b/benchmark_5_v1.0.0_stem_agent.few_shot_stem.json\n"
     ]
    }
   ],
   "source": [
    "for model_name in MODEL_LIST:\n",
    "    generate_stem(benchmark_file=BENCH_FILE, passage_model_name=model_name, model_name=model_name, template_key=\"stem_agent.few_shot\", passage_template_key=\"passage_agent.create_passage_rubric_aware\", gpus=[2, 3], BENCH_ID_LIST=BENCH_ID_LIST, date_str=DATE_STR)\n"
   ]
  },
  {
   "cell_type": "code",
   "execution_count": null,
   "id": "afc7033a",
   "metadata": {},
   "outputs": [
    {
     "name": "stdout",
     "output_type": "stream",
     "text": [
      "🎯 CUDA_VISIBLE_DEVICES 설정: 2,3\n",
      "🧹 CUDA 캐시 정리 완료\n",
      "🎯 다중 GPU 모드: 실제 GPU [2, 3] → 논리적 GPU 0~1\n",
      "🔗 디바이스 매핑: {'cuda:0': 'cuda:0', 'cuda:1': 'cuda:1'}\n",
      "🔄 로컬 모델 로딩 중: /home/sjin4861/models/Midm-2.0-Base-Instruct...\n",
      "📊 GPU 메모리 상태:\n",
      "   논리적 GPU 0 (실제 GPU 2): 0.0GB 할당, 0.0GB 캐시, 23.7GB 총용량\n",
      "   논리적 GPU 1 (실제 GPU 3): 0.0GB 할당, 0.0GB 캐시, 23.7GB 총용량\n",
      "🔧 모델 로딩 옵션: device_map={'cuda:0': 'cuda:0', 'cuda:1': 'cuda:1'}\n"
     ]
    },
    {
     "data": {
      "application/vnd.jupyter.widget-view+json": {
       "model_id": "675b27e1812845de818e5195c9c4382c",
       "version_major": 2,
       "version_minor": 0
      },
      "text/plain": [
       "Loading checkpoint shards:   0%|          | 0/5 [00:00<?, ?it/s]"
      ]
     },
     "metadata": {},
     "output_type": "display_data"
    },
    {
     "name": "stdout",
     "output_type": "stream",
     "text": [
      "❌ 모델 로딩 실패: model.embed_tokens.weight doesn't have any device set.\n",
      "🔄 보수적인 설정으로 재시도...\n"
     ]
    },
    {
     "data": {
      "application/vnd.jupyter.widget-view+json": {
       "model_id": "a0805b0478f74fe59ae8b350eb77fa5d",
       "version_major": 2,
       "version_minor": 0
      },
      "text/plain": [
       "Loading checkpoint shards:   0%|          | 0/5 [00:00<?, ?it/s]"
      ]
     },
     "metadata": {},
     "output_type": "display_data"
    },
    {
     "name": "stdout",
     "output_type": "stream",
     "text": [
      "🔧 모델을 cuda:2로 이동 완료\n",
      "✅ 로컬 모델 로딩 완료 (cuda:2)\n",
      "✅ 4지선다 선택지 생성 에이전트가 초기화되었습니다.\n",
      "✅ Loaded: benchmark_1_v1.0.0_stem_agent.few_shot.json\n",
      "✅ Found stem file with exact template: stem_agent.few_shot\n",
      "\n",
      "✨ 4지선다 선택지 생성을 시작합니다...\n",
      "✅ 선택지 생성 성공!\n",
      "  💾 Saving results to '/home/sjin4861/25-1/HCLT/iSKA_Gen/src/data/raw_outputs/2025-07-28/option/Midm-2.0-Base-Instruct/benchmark_1_v1.0.0_options_agent.few_shot_options.json'...\n",
      "  ✅ Save complete.\n",
      "Generated options for benchmark ID 1 and saved to /home/sjin4861/25-1/HCLT/iSKA_Gen/src/data/raw_outputs/2025-07-28/option/Midm-2.0-Base-Instruct/benchmark_1_v1.0.0_options_agent.few_shot_options.json\n",
      "✅ Loaded: benchmark_2_v1.0.0_stem_agent.few_shot.json\n",
      "✅ Found stem file with exact template: stem_agent.few_shot\n",
      "\n",
      "✨ 4지선다 선택지 생성을 시작합니다...\n",
      "✅ 선택지 생성 성공!\n",
      "  💾 Saving results to '/home/sjin4861/25-1/HCLT/iSKA_Gen/src/data/raw_outputs/2025-07-28/option/Midm-2.0-Base-Instruct/benchmark_2_v1.0.0_options_agent.few_shot_options.json'...\n",
      "  ✅ Save complete.\n",
      "Generated options for benchmark ID 2 and saved to /home/sjin4861/25-1/HCLT/iSKA_Gen/src/data/raw_outputs/2025-07-28/option/Midm-2.0-Base-Instruct/benchmark_2_v1.0.0_options_agent.few_shot_options.json\n",
      "✅ Loaded: benchmark_3_v1.0.0_stem_agent.few_shot.json\n",
      "✅ Found stem file with exact template: stem_agent.few_shot\n",
      "\n",
      "✨ 4지선다 선택지 생성을 시작합니다...\n",
      "✅ 선택지 생성 성공!\n",
      "  💾 Saving results to '/home/sjin4861/25-1/HCLT/iSKA_Gen/src/data/raw_outputs/2025-07-28/option/Midm-2.0-Base-Instruct/benchmark_3_v1.0.0_options_agent.few_shot_options.json'...\n",
      "  ✅ Save complete.\n",
      "Generated options for benchmark ID 3 and saved to /home/sjin4861/25-1/HCLT/iSKA_Gen/src/data/raw_outputs/2025-07-28/option/Midm-2.0-Base-Instruct/benchmark_3_v1.0.0_options_agent.few_shot_options.json\n",
      "✅ Loaded: benchmark_4_v1.0.0_stem_agent.few_shot.json\n",
      "✅ Found stem file with exact template: stem_agent.few_shot\n",
      "\n",
      "✨ 4지선다 선택지 생성을 시작합니다...\n",
      "❌ 선택지 파싱에 실패했습니다: \"{\\n  \\\"options\\\": [\\n    \\\"종이 신문은 심층적인 분석과 검증된 정보를 제공하지만 접근성이 제한적이며, 뉴스 앱은 실시간 업데이트와 다양한 콘텐츠 접근이 가능하지만 신뢰성이 떨어질 수 있다.\\\",\\n    \\\"종이 신문은 무료로 제공되어 경제적이지만 최신 뉴스 확인이 어렵고, 뉴스 앱은 유료 서비스로 정확한 정보를 제공한다.\\\",\\n    \\\"종이 신문은 환경 친화적이고 뉴스 앱은 디지털 기기 의존도가 높아 지속 가능성 면에서 차이가 크다.\\\",\\n    \\\"종이 신문은 오프라인 중심의 전통적 매체이고, 뉴스 앱은 온라인 중심의 현대적 플랫폼이라는 점에서 근본적 차이가 나타난다.\\\",\\n  ],\\n  \\\"answer_idx\\\": 1\\n}\"\n",
      "  💾 Saving results to '/home/sjin4861/25-1/HCLT/iSKA_Gen/src/data/raw_outputs/2025-07-28/option/Midm-2.0-Base-Instruct/benchmark_4_v1.0.0_options_agent.few_shot_options.json'...\n",
      "  ✅ Save complete.\n",
      "Generated options for benchmark ID 4 and saved to /home/sjin4861/25-1/HCLT/iSKA_Gen/src/data/raw_outputs/2025-07-28/option/Midm-2.0-Base-Instruct/benchmark_4_v1.0.0_options_agent.few_shot_options.json\n",
      "✅ Loaded: benchmark_5_v1.0.0_stem_agent.few_shot.json\n",
      "✅ Found stem file with exact template: stem_agent.few_shot\n",
      "\n",
      "✨ 4지선다 선택지 생성을 시작합니다...\n",
      "✅ 선택지 생성 성공!\n",
      "  💾 Saving results to '/home/sjin4861/25-1/HCLT/iSKA_Gen/src/data/raw_outputs/2025-07-28/option/Midm-2.0-Base-Instruct/benchmark_5_v1.0.0_options_agent.few_shot_options.json'...\n",
      "  ✅ Save complete.\n",
      "Generated options for benchmark ID 5 and saved to /home/sjin4861/25-1/HCLT/iSKA_Gen/src/data/raw_outputs/2025-07-28/option/Midm-2.0-Base-Instruct/benchmark_5_v1.0.0_options_agent.few_shot_options.json\n",
      "🎯 CUDA_VISIBLE_DEVICES 설정: 2,3\n",
      "🧹 CUDA 캐시 정리 완료\n",
      "🎯 다중 GPU 모드: 실제 GPU [2, 3] → 논리적 GPU 0~1\n",
      "🔗 디바이스 매핑: {'cuda:0': 'cuda:0', 'cuda:1': 'cuda:1'}\n",
      "🔄 로컬 모델 로딩 중: /home/sjin4861/models/EXAONE-3.5-7.8B-Instruct...\n",
      "📊 GPU 메모리 상태:\n",
      "   논리적 GPU 0 (실제 GPU 2): 0.0GB 할당, 0.0GB 캐시, 23.7GB 총용량\n",
      "   논리적 GPU 1 (실제 GPU 3): 0.0GB 할당, 0.0GB 캐시, 23.7GB 총용량\n",
      "🔧 모델 로딩 옵션: device_map={'cuda:0': 'cuda:0', 'cuda:1': 'cuda:1'}\n"
     ]
    },
    {
     "data": {
      "application/vnd.jupyter.widget-view+json": {
       "model_id": "646d9e458da14b35b650924ff2c5f490",
       "version_major": 2,
       "version_minor": 0
      },
      "text/plain": [
       "Loading checkpoint shards:   0%|          | 0/7 [00:00<?, ?it/s]"
      ]
     },
     "metadata": {},
     "output_type": "display_data"
    },
    {
     "name": "stdout",
     "output_type": "stream",
     "text": [
      "❌ 모델 로딩 실패: transformer.h.0.attn.attention.k_proj.weight doesn't have any device set.\n",
      "🔄 보수적인 설정으로 재시도...\n"
     ]
    },
    {
     "data": {
      "application/vnd.jupyter.widget-view+json": {
       "model_id": "e56c854e3ddd4c1f9b9704d0e7188d05",
       "version_major": 2,
       "version_minor": 0
      },
      "text/plain": [
       "Loading checkpoint shards:   0%|          | 0/7 [00:00<?, ?it/s]"
      ]
     },
     "metadata": {},
     "output_type": "display_data"
    },
    {
     "name": "stdout",
     "output_type": "stream",
     "text": [
      "🔧 모델을 cuda:2로 이동 완료\n",
      "✅ 로컬 모델 로딩 완료 (cuda:2)\n",
      "✅ 4지선다 선택지 생성 에이전트가 초기화되었습니다.\n",
      "Warning: No files match the specified criteria\n",
      "❌ No stem file found with template: stem_agent.few_shot\n",
      "Warning: No stem data found for benchmark ID 1 in date 2025-07-28. Skipping...\n",
      "Warning: No files match the specified criteria\n",
      "❌ No stem file found with template: stem_agent.few_shot\n",
      "Warning: No stem data found for benchmark ID 2 in date 2025-07-28. Skipping...\n",
      "Warning: No files match the specified criteria\n",
      "❌ No stem file found with template: stem_agent.few_shot\n",
      "Warning: No stem data found for benchmark ID 3 in date 2025-07-28. Skipping...\n",
      "Warning: No files match the specified criteria\n",
      "❌ No stem file found with template: stem_agent.few_shot\n",
      "Warning: No stem data found for benchmark ID 4 in date 2025-07-28. Skipping...\n",
      "Warning: No files match the specified criteria\n",
      "❌ No stem file found with template: stem_agent.few_shot\n",
      "Warning: No stem data found for benchmark ID 5 in date 2025-07-28. Skipping...\n",
      "🎯 CUDA_VISIBLE_DEVICES 설정: 2,3\n",
      "🧹 CUDA 캐시 정리 완료\n",
      "🎯 다중 GPU 모드: 실제 GPU [2, 3] → 논리적 GPU 0~1\n",
      "🔗 디바이스 매핑: {'cuda:0': 'cuda:0', 'cuda:1': 'cuda:1'}\n",
      "🔄 로컬 모델 로딩 중: /home/sjin4861/models/A.X-4.0-Light...\n",
      "📊 GPU 메모리 상태:\n",
      "   논리적 GPU 0 (실제 GPU 2): 0.0GB 할당, 0.0GB 캐시, 23.7GB 총용량\n",
      "   논리적 GPU 1 (실제 GPU 3): 0.0GB 할당, 0.0GB 캐시, 23.7GB 총용량\n",
      "🔧 모델 로딩 옵션: device_map={'cuda:0': 'cuda:0', 'cuda:1': 'cuda:1'}\n"
     ]
    },
    {
     "data": {
      "application/vnd.jupyter.widget-view+json": {
       "model_id": "8f0ee643aa934e6c97d1841b4dbe4e97",
       "version_major": 2,
       "version_minor": 0
      },
      "text/plain": [
       "Loading checkpoint shards:   0%|          | 0/3 [00:00<?, ?it/s]"
      ]
     },
     "metadata": {},
     "output_type": "display_data"
    },
    {
     "name": "stdout",
     "output_type": "stream",
     "text": [
      "❌ 모델 로딩 실패: model.embed_tokens.weight doesn't have any device set.\n",
      "🔄 보수적인 설정으로 재시도...\n"
     ]
    },
    {
     "data": {
      "application/vnd.jupyter.widget-view+json": {
       "model_id": "4a2b5b61ecef46ff9db923c92d74e448",
       "version_major": 2,
       "version_minor": 0
      },
      "text/plain": [
       "Loading checkpoint shards:   0%|          | 0/3 [00:00<?, ?it/s]"
      ]
     },
     "metadata": {},
     "output_type": "display_data"
    },
    {
     "name": "stdout",
     "output_type": "stream",
     "text": [
      "🔧 모델을 cuda:2로 이동 완료\n",
      "✅ 로컬 모델 로딩 완료 (cuda:2)\n",
      "✅ 4지선다 선택지 생성 에이전트가 초기화되었습니다.\n",
      "✅ Loaded: benchmark_1_v1.0.0_stem_agent.few_shot.json\n",
      "✅ Found stem file with exact template: stem_agent.few_shot\n",
      "\n",
      "✨ 4지선다 선택지 생성을 시작합니다...\n",
      "✅ 선택지 생성 성공!\n",
      "  💾 Saving results to '/home/sjin4861/25-1/HCLT/iSKA_Gen/src/data/raw_outputs/2025-07-28/option/A.X-4.0-Light/benchmark_1_v1.0.0_options_agent.few_shot_options.json'...\n",
      "  ✅ Save complete.\n",
      "Generated options for benchmark ID 1 and saved to /home/sjin4861/25-1/HCLT/iSKA_Gen/src/data/raw_outputs/2025-07-28/option/A.X-4.0-Light/benchmark_1_v1.0.0_options_agent.few_shot_options.json\n",
      "✅ Loaded: benchmark_2_v1.0.0_stem_agent.few_shot.json\n",
      "✅ Found stem file with exact template: stem_agent.few_shot\n",
      "\n",
      "✨ 4지선다 선택지 생성을 시작합니다...\n"
     ]
    },
    {
     "ename": "KeyboardInterrupt",
     "evalue": "",
     "output_type": "error",
     "traceback": [
      "\u001b[31m---------------------------------------------------------------------------\u001b[39m",
      "\u001b[31mKeyboardInterrupt\u001b[39m                         Traceback (most recent call last)",
      "\u001b[36mCell\u001b[39m\u001b[36m \u001b[39m\u001b[32mIn[4]\u001b[39m\u001b[32m, line 2\u001b[39m\n\u001b[32m      1\u001b[39m \u001b[38;5;28;01mfor\u001b[39;00m model_name \u001b[38;5;129;01min\u001b[39;00m MODEL_LIST:\n\u001b[32m----> \u001b[39m\u001b[32m2\u001b[39m     \u001b[43mgenerate_options\u001b[49m\u001b[43m(\u001b[49m\u001b[43mbenchmark_file\u001b[49m\u001b[43m=\u001b[49m\u001b[43mBENCH_FILE\u001b[49m\u001b[43m,\u001b[49m\u001b[43m \u001b[49m\u001b[43mstem_model_name\u001b[49m\u001b[43m=\u001b[49m\u001b[43mmodel_name\u001b[49m\u001b[43m,\u001b[49m\u001b[43m \u001b[49m\u001b[43mmodel_name\u001b[49m\u001b[43m=\u001b[49m\u001b[43mmodel_name\u001b[49m\u001b[43m,\u001b[49m\u001b[43m \u001b[49m\u001b[43mtemplate_key\u001b[49m\u001b[43m=\u001b[49m\u001b[33;43m\"\u001b[39;49m\u001b[33;43moptions_agent.few_shot\u001b[39;49m\u001b[33;43m\"\u001b[39;49m\u001b[43m,\u001b[49m\u001b[43m \u001b[49m\u001b[43mstem_template_key\u001b[49m\u001b[43m=\u001b[49m\u001b[33;43m\"\u001b[39;49m\u001b[33;43mstem_agent.few_shot\u001b[39;49m\u001b[33;43m\"\u001b[39;49m\u001b[43m,\u001b[49m\u001b[43m \u001b[49m\u001b[43mgpus\u001b[49m\u001b[43m=\u001b[49m\u001b[43m[\u001b[49m\u001b[32;43m2\u001b[39;49m\u001b[43m,\u001b[49m\u001b[43m \u001b[49m\u001b[32;43m3\u001b[39;49m\u001b[43m]\u001b[49m\u001b[43m,\u001b[49m\u001b[43m \u001b[49m\u001b[43mBENCH_ID_LIST\u001b[49m\u001b[43m=\u001b[49m\u001b[43mBENCH_ID_LIST\u001b[49m\u001b[43m,\u001b[49m\u001b[43m \u001b[49m\u001b[43mdate_str\u001b[49m\u001b[43m=\u001b[49m\u001b[43mDATE_STR\u001b[49m\u001b[43m)\u001b[49m\n",
      "\u001b[36mFile \u001b[39m\u001b[32m~/25-1/HCLT/iSKA_Gen/src/utils/make_option.py:80\u001b[39m, in \u001b[36mgenerate_options\u001b[39m\u001b[34m(benchmark_file, stem_model_name, model_name, template_key, stem_template_key, benchmark_version, gpus, BENCH_ID_LIST, date_str)\u001b[39m\n\u001b[32m     72\u001b[39m options_data = {\n\u001b[32m     73\u001b[39m     \u001b[33m\"\u001b[39m\u001b[33msource_passage\u001b[39m\u001b[33m\"\u001b[39m: source_passage,\n\u001b[32m     74\u001b[39m     \u001b[33m\"\u001b[39m\u001b[33mproblem_type_1\u001b[39m\u001b[33m\"\u001b[39m: problem_type,\n\u001b[32m     75\u001b[39m     \u001b[33m\"\u001b[39m\u001b[33meval_goal_1\u001b[39m\u001b[33m\"\u001b[39m: eval_goal,\n\u001b[32m     76\u001b[39m     \u001b[33m\"\u001b[39m\u001b[33mstem_1\u001b[39m\u001b[33m\"\u001b[39m: stem_text,\n\u001b[32m     77\u001b[39m }\n\u001b[32m     79\u001b[39m \u001b[38;5;28;01mif\u001b[39;00m stem_text \u001b[38;5;129;01mand\u001b[39;00m stem_text != \u001b[33m\"\u001b[39m\u001b[33m문항 생성 실패\u001b[39m\u001b[33m\"\u001b[39m:\n\u001b[32m---> \u001b[39m\u001b[32m80\u001b[39m     generated_options = \u001b[43moptions_agent\u001b[49m\u001b[43m.\u001b[49m\u001b[43mgenerate_options\u001b[49m\u001b[43m(\u001b[49m\n\u001b[32m     81\u001b[39m \u001b[43m        \u001b[49m\u001b[43mpassage\u001b[49m\u001b[43m=\u001b[49m\u001b[43msource_passage\u001b[49m\u001b[43m,\u001b[49m\n\u001b[32m     82\u001b[39m \u001b[43m        \u001b[49m\u001b[43mstem\u001b[49m\u001b[43m=\u001b[49m\u001b[43mstem_text\u001b[49m\u001b[43m,\u001b[49m\n\u001b[32m     83\u001b[39m \u001b[43m        \u001b[49m\u001b[43mtemplate_key\u001b[49m\u001b[43m=\u001b[49m\u001b[43mtemplate_key\u001b[49m\u001b[43m,\u001b[49m\n\u001b[32m     84\u001b[39m \u001b[43m    \u001b[49m\u001b[43m)\u001b[49m\n\u001b[32m     85\u001b[39m     options_data[\u001b[33m\"\u001b[39m\u001b[33moptions\u001b[39m\u001b[33m\"\u001b[39m] = generated_options \u001b[38;5;28;01mif\u001b[39;00m generated_options \u001b[38;5;28;01melse\u001b[39;00m \u001b[33m\"\u001b[39m\u001b[33m선택지 생성 실패\u001b[39m\u001b[33m\"\u001b[39m\n\u001b[32m     86\u001b[39m \u001b[38;5;28;01melse\u001b[39;00m:\n",
      "\u001b[36mFile \u001b[39m\u001b[32m~/25-1/HCLT/iSKA_Gen/src/modules/iska/options_agent.py:51\u001b[39m, in \u001b[36mOptionsAgent.generate_options\u001b[39m\u001b[34m(self, passage, stem, template_key)\u001b[39m\n\u001b[32m     49\u001b[39m messages = [{\u001b[33m\"\u001b[39m\u001b[33mrole\u001b[39m\u001b[33m\"\u001b[39m: \u001b[33m\"\u001b[39m\u001b[33muser\u001b[39m\u001b[33m\"\u001b[39m, \u001b[33m\"\u001b[39m\u001b[33mcontent\u001b[39m\u001b[33m\"\u001b[39m: prompt}]\n\u001b[32m     50\u001b[39m \u001b[38;5;66;03m# LLM을 호출하여 JSON 형식의 선택지를 생성합니다.\u001b[39;00m\n\u001b[32m---> \u001b[39m\u001b[32m51\u001b[39m response_str = \u001b[38;5;28;43mself\u001b[39;49m\u001b[43m.\u001b[49m\u001b[43mllm_client\u001b[49m\u001b[43m.\u001b[49m\u001b[43mcall\u001b[49m\u001b[43m(\u001b[49m\n\u001b[32m     52\u001b[39m \u001b[43m    \u001b[49m\u001b[43mmessages\u001b[49m\u001b[43m=\u001b[49m\u001b[43mmessages\u001b[49m\u001b[43m,\u001b[49m\n\u001b[32m     53\u001b[39m \u001b[43m    \u001b[49m\u001b[43mtemperature\u001b[49m\u001b[43m=\u001b[49m\u001b[32;43m0.5\u001b[39;49m\u001b[43m  \u001b[49m\u001b[38;5;66;43;03m# 일관된 형식을 위해 온도를 낮춤\u001b[39;49;00m\n\u001b[32m     54\u001b[39m \u001b[43m\u001b[49m\u001b[43m)\u001b[49m\n\u001b[32m     56\u001b[39m \u001b[38;5;66;03m# 응답 정리 및 JSON 파싱\u001b[39;00m\n\u001b[32m     57\u001b[39m options_data = \u001b[38;5;28mself\u001b[39m._parse_options_response(response_str)\n",
      "\u001b[36mFile \u001b[39m\u001b[32m~/25-1/HCLT/iSKA_Gen/src/modules/model_client.py:401\u001b[39m, in \u001b[36mLocalModelClient.call\u001b[39m\u001b[34m(self, messages, **kwargs)\u001b[39m\n\u001b[32m    398\u001b[39m             generate_kwargs[\u001b[33m'\u001b[39m\u001b[33mtoken_type_ids\u001b[39m\u001b[33m'\u001b[39m] = inputs.token_type_ids\n\u001b[32m    399\u001b[39m         \u001b[38;5;66;03m# 지원하지 않는 모델의 경우 token_type_ids는 제외\u001b[39;00m\n\u001b[32m--> \u001b[39m\u001b[32m401\u001b[39m     outputs = \u001b[38;5;28;43mself\u001b[39;49m\u001b[43m.\u001b[49m\u001b[43mmodel\u001b[49m\u001b[43m.\u001b[49m\u001b[43mgenerate\u001b[49m\u001b[43m(\u001b[49m\u001b[43m*\u001b[49m\u001b[43m*\u001b[49m\u001b[43mgenerate_kwargs\u001b[49m\u001b[43m)\u001b[49m\n\u001b[32m    402\u001b[39m response_text = \u001b[38;5;28mself\u001b[39m.tokenizer.decode(outputs[\u001b[32m0\u001b[39m][\u001b[38;5;28mlen\u001b[39m(inputs.input_ids[\u001b[32m0\u001b[39m]):], skip_special_tokens=\u001b[38;5;28;01mTrue\u001b[39;00m)\n\u001b[32m    403\u001b[39m \u001b[38;5;28;01mreturn\u001b[39;00m response_text.strip()\n",
      "\u001b[36mFile \u001b[39m\u001b[32m~/25-1/HCLT/iSKA_Gen/.pixi/envs/default/lib/python3.11/site-packages/torch/utils/_contextlib.py:116\u001b[39m, in \u001b[36mcontext_decorator.<locals>.decorate_context\u001b[39m\u001b[34m(*args, **kwargs)\u001b[39m\n\u001b[32m    113\u001b[39m \u001b[38;5;129m@functools\u001b[39m.wraps(func)\n\u001b[32m    114\u001b[39m \u001b[38;5;28;01mdef\u001b[39;00m\u001b[38;5;250m \u001b[39m\u001b[34mdecorate_context\u001b[39m(*args, **kwargs):\n\u001b[32m    115\u001b[39m     \u001b[38;5;28;01mwith\u001b[39;00m ctx_factory():\n\u001b[32m--> \u001b[39m\u001b[32m116\u001b[39m         \u001b[38;5;28;01mreturn\u001b[39;00m \u001b[43mfunc\u001b[49m\u001b[43m(\u001b[49m\u001b[43m*\u001b[49m\u001b[43margs\u001b[49m\u001b[43m,\u001b[49m\u001b[43m \u001b[49m\u001b[43m*\u001b[49m\u001b[43m*\u001b[49m\u001b[43mkwargs\u001b[49m\u001b[43m)\u001b[49m\n",
      "\u001b[36mFile \u001b[39m\u001b[32m~/25-1/HCLT/iSKA_Gen/.pixi/envs/default/lib/python3.11/site-packages/transformers/generation/utils.py:2625\u001b[39m, in \u001b[36mGenerationMixin.generate\u001b[39m\u001b[34m(self, inputs, generation_config, logits_processor, stopping_criteria, prefix_allowed_tokens_fn, synced_gpus, assistant_model, streamer, negative_prompt_ids, negative_prompt_attention_mask, use_model_defaults, custom_generate, **kwargs)\u001b[39m\n\u001b[32m   2617\u001b[39m     input_ids, model_kwargs = \u001b[38;5;28mself\u001b[39m._expand_inputs_for_generation(\n\u001b[32m   2618\u001b[39m         input_ids=input_ids,\n\u001b[32m   2619\u001b[39m         expand_size=generation_config.num_return_sequences,\n\u001b[32m   2620\u001b[39m         is_encoder_decoder=\u001b[38;5;28mself\u001b[39m.config.is_encoder_decoder,\n\u001b[32m   2621\u001b[39m         **model_kwargs,\n\u001b[32m   2622\u001b[39m     )\n\u001b[32m   2624\u001b[39m     \u001b[38;5;66;03m# 12. run sample (it degenerates to greedy search when `generation_config.do_sample=False`)\u001b[39;00m\n\u001b[32m-> \u001b[39m\u001b[32m2625\u001b[39m     result = \u001b[38;5;28;43mself\u001b[39;49m\u001b[43m.\u001b[49m\u001b[43m_sample\u001b[49m\u001b[43m(\u001b[49m\n\u001b[32m   2626\u001b[39m \u001b[43m        \u001b[49m\u001b[43minput_ids\u001b[49m\u001b[43m,\u001b[49m\n\u001b[32m   2627\u001b[39m \u001b[43m        \u001b[49m\u001b[43mlogits_processor\u001b[49m\u001b[43m=\u001b[49m\u001b[43mprepared_logits_processor\u001b[49m\u001b[43m,\u001b[49m\n\u001b[32m   2628\u001b[39m \u001b[43m        \u001b[49m\u001b[43mstopping_criteria\u001b[49m\u001b[43m=\u001b[49m\u001b[43mprepared_stopping_criteria\u001b[49m\u001b[43m,\u001b[49m\n\u001b[32m   2629\u001b[39m \u001b[43m        \u001b[49m\u001b[43mgeneration_config\u001b[49m\u001b[43m=\u001b[49m\u001b[43mgeneration_config\u001b[49m\u001b[43m,\u001b[49m\n\u001b[32m   2630\u001b[39m \u001b[43m        \u001b[49m\u001b[43msynced_gpus\u001b[49m\u001b[43m=\u001b[49m\u001b[43msynced_gpus\u001b[49m\u001b[43m,\u001b[49m\n\u001b[32m   2631\u001b[39m \u001b[43m        \u001b[49m\u001b[43mstreamer\u001b[49m\u001b[43m=\u001b[49m\u001b[43mstreamer\u001b[49m\u001b[43m,\u001b[49m\n\u001b[32m   2632\u001b[39m \u001b[43m        \u001b[49m\u001b[43m*\u001b[49m\u001b[43m*\u001b[49m\u001b[43mmodel_kwargs\u001b[49m\u001b[43m,\u001b[49m\n\u001b[32m   2633\u001b[39m \u001b[43m    \u001b[49m\u001b[43m)\u001b[49m\n\u001b[32m   2635\u001b[39m \u001b[38;5;28;01melif\u001b[39;00m generation_mode \u001b[38;5;129;01min\u001b[39;00m (GenerationMode.BEAM_SAMPLE, GenerationMode.BEAM_SEARCH):\n\u001b[32m   2636\u001b[39m     \u001b[38;5;66;03m# 11. interleave input_ids with `num_beams` additional sequences per batch\u001b[39;00m\n\u001b[32m   2637\u001b[39m     input_ids, model_kwargs = \u001b[38;5;28mself\u001b[39m._expand_inputs_for_generation(\n\u001b[32m   2638\u001b[39m         input_ids=input_ids,\n\u001b[32m   2639\u001b[39m         expand_size=generation_config.num_beams,\n\u001b[32m   2640\u001b[39m         is_encoder_decoder=\u001b[38;5;28mself\u001b[39m.config.is_encoder_decoder,\n\u001b[32m   2641\u001b[39m         **model_kwargs,\n\u001b[32m   2642\u001b[39m     )\n",
      "\u001b[36mFile \u001b[39m\u001b[32m~/25-1/HCLT/iSKA_Gen/.pixi/envs/default/lib/python3.11/site-packages/transformers/generation/utils.py:3609\u001b[39m, in \u001b[36mGenerationMixin._sample\u001b[39m\u001b[34m(self, input_ids, logits_processor, stopping_criteria, generation_config, synced_gpus, streamer, **model_kwargs)\u001b[39m\n\u001b[32m   3607\u001b[39m     is_prefill = \u001b[38;5;28;01mFalse\u001b[39;00m\n\u001b[32m   3608\u001b[39m \u001b[38;5;28;01melse\u001b[39;00m:\n\u001b[32m-> \u001b[39m\u001b[32m3609\u001b[39m     outputs = \u001b[43mmodel_forward\u001b[49m\u001b[43m(\u001b[49m\u001b[43m*\u001b[49m\u001b[43m*\u001b[49m\u001b[43mmodel_inputs\u001b[49m\u001b[43m,\u001b[49m\u001b[43m \u001b[49m\u001b[43mreturn_dict\u001b[49m\u001b[43m=\u001b[49m\u001b[38;5;28;43;01mTrue\u001b[39;49;00m\u001b[43m)\u001b[49m\n\u001b[32m   3611\u001b[39m \u001b[38;5;66;03m# synced_gpus: don't waste resources running the code we don't need; kwargs must be updated before skipping\u001b[39;00m\n\u001b[32m   3612\u001b[39m model_kwargs = \u001b[38;5;28mself\u001b[39m._update_model_kwargs_for_generation(\n\u001b[32m   3613\u001b[39m     outputs,\n\u001b[32m   3614\u001b[39m     model_kwargs,\n\u001b[32m   3615\u001b[39m     is_encoder_decoder=\u001b[38;5;28mself\u001b[39m.config.is_encoder_decoder,\n\u001b[32m   3616\u001b[39m )\n",
      "\u001b[36mFile \u001b[39m\u001b[32m~/25-1/HCLT/iSKA_Gen/.pixi/envs/default/lib/python3.11/site-packages/torch/nn/modules/module.py:1736\u001b[39m, in \u001b[36mModule._wrapped_call_impl\u001b[39m\u001b[34m(self, *args, **kwargs)\u001b[39m\n\u001b[32m   1734\u001b[39m     \u001b[38;5;28;01mreturn\u001b[39;00m \u001b[38;5;28mself\u001b[39m._compiled_call_impl(*args, **kwargs)  \u001b[38;5;66;03m# type: ignore[misc]\u001b[39;00m\n\u001b[32m   1735\u001b[39m \u001b[38;5;28;01melse\u001b[39;00m:\n\u001b[32m-> \u001b[39m\u001b[32m1736\u001b[39m     \u001b[38;5;28;01mreturn\u001b[39;00m \u001b[38;5;28;43mself\u001b[39;49m\u001b[43m.\u001b[49m\u001b[43m_call_impl\u001b[49m\u001b[43m(\u001b[49m\u001b[43m*\u001b[49m\u001b[43margs\u001b[49m\u001b[43m,\u001b[49m\u001b[43m \u001b[49m\u001b[43m*\u001b[49m\u001b[43m*\u001b[49m\u001b[43mkwargs\u001b[49m\u001b[43m)\u001b[49m\n",
      "\u001b[36mFile \u001b[39m\u001b[32m~/25-1/HCLT/iSKA_Gen/.pixi/envs/default/lib/python3.11/site-packages/torch/nn/modules/module.py:1747\u001b[39m, in \u001b[36mModule._call_impl\u001b[39m\u001b[34m(self, *args, **kwargs)\u001b[39m\n\u001b[32m   1742\u001b[39m \u001b[38;5;66;03m# If we don't have any hooks, we want to skip the rest of the logic in\u001b[39;00m\n\u001b[32m   1743\u001b[39m \u001b[38;5;66;03m# this function, and just call forward.\u001b[39;00m\n\u001b[32m   1744\u001b[39m \u001b[38;5;28;01mif\u001b[39;00m \u001b[38;5;129;01mnot\u001b[39;00m (\u001b[38;5;28mself\u001b[39m._backward_hooks \u001b[38;5;129;01mor\u001b[39;00m \u001b[38;5;28mself\u001b[39m._backward_pre_hooks \u001b[38;5;129;01mor\u001b[39;00m \u001b[38;5;28mself\u001b[39m._forward_hooks \u001b[38;5;129;01mor\u001b[39;00m \u001b[38;5;28mself\u001b[39m._forward_pre_hooks\n\u001b[32m   1745\u001b[39m         \u001b[38;5;129;01mor\u001b[39;00m _global_backward_pre_hooks \u001b[38;5;129;01mor\u001b[39;00m _global_backward_hooks\n\u001b[32m   1746\u001b[39m         \u001b[38;5;129;01mor\u001b[39;00m _global_forward_hooks \u001b[38;5;129;01mor\u001b[39;00m _global_forward_pre_hooks):\n\u001b[32m-> \u001b[39m\u001b[32m1747\u001b[39m     \u001b[38;5;28;01mreturn\u001b[39;00m \u001b[43mforward_call\u001b[49m\u001b[43m(\u001b[49m\u001b[43m*\u001b[49m\u001b[43margs\u001b[49m\u001b[43m,\u001b[49m\u001b[43m \u001b[49m\u001b[43m*\u001b[49m\u001b[43m*\u001b[49m\u001b[43mkwargs\u001b[49m\u001b[43m)\u001b[49m\n\u001b[32m   1749\u001b[39m result = \u001b[38;5;28;01mNone\u001b[39;00m\n\u001b[32m   1750\u001b[39m called_always_called_hooks = \u001b[38;5;28mset\u001b[39m()\n",
      "\u001b[36mFile \u001b[39m\u001b[32m~/25-1/HCLT/iSKA_Gen/.pixi/envs/default/lib/python3.11/site-packages/transformers/utils/generic.py:943\u001b[39m, in \u001b[36mcan_return_tuple.<locals>.wrapper\u001b[39m\u001b[34m(self, *args, **kwargs)\u001b[39m\n\u001b[32m    940\u001b[39m     set_attribute_for_modules(\u001b[38;5;28mself\u001b[39m, \u001b[33m\"\u001b[39m\u001b[33m_is_top_level_module\u001b[39m\u001b[33m\"\u001b[39m, \u001b[38;5;28;01mFalse\u001b[39;00m)\n\u001b[32m    942\u001b[39m \u001b[38;5;28;01mtry\u001b[39;00m:\n\u001b[32m--> \u001b[39m\u001b[32m943\u001b[39m     output = \u001b[43mfunc\u001b[49m\u001b[43m(\u001b[49m\u001b[38;5;28;43mself\u001b[39;49m\u001b[43m,\u001b[49m\u001b[43m \u001b[49m\u001b[43m*\u001b[49m\u001b[43margs\u001b[49m\u001b[43m,\u001b[49m\u001b[43m \u001b[49m\u001b[43m*\u001b[49m\u001b[43m*\u001b[49m\u001b[43mkwargs\u001b[49m\u001b[43m)\u001b[49m\n\u001b[32m    944\u001b[39m     \u001b[38;5;28;01mif\u001b[39;00m is_requested_to_return_tuple \u001b[38;5;129;01mor\u001b[39;00m (is_configured_to_return_tuple \u001b[38;5;129;01mand\u001b[39;00m is_top_level_module):\n\u001b[32m    945\u001b[39m         output = output.to_tuple()\n",
      "\u001b[36mFile \u001b[39m\u001b[32m~/25-1/HCLT/iSKA_Gen/.pixi/envs/default/lib/python3.11/site-packages/transformers/models/qwen2/modeling_qwen2.py:544\u001b[39m, in \u001b[36mQwen2ForCausalLM.forward\u001b[39m\u001b[34m(self, input_ids, attention_mask, position_ids, past_key_values, inputs_embeds, labels, use_cache, output_attentions, output_hidden_states, cache_position, logits_to_keep, **kwargs)\u001b[39m\n\u001b[32m    539\u001b[39m output_hidden_states = (\n\u001b[32m    540\u001b[39m     output_hidden_states \u001b[38;5;28;01mif\u001b[39;00m output_hidden_states \u001b[38;5;129;01mis\u001b[39;00m \u001b[38;5;129;01mnot\u001b[39;00m \u001b[38;5;28;01mNone\u001b[39;00m \u001b[38;5;28;01melse\u001b[39;00m \u001b[38;5;28mself\u001b[39m.config.output_hidden_states\n\u001b[32m    541\u001b[39m )\n\u001b[32m    543\u001b[39m \u001b[38;5;66;03m# decoder outputs consists of (dec_features, layer_state, dec_hidden, dec_attn)\u001b[39;00m\n\u001b[32m--> \u001b[39m\u001b[32m544\u001b[39m outputs: BaseModelOutputWithPast = \u001b[38;5;28;43mself\u001b[39;49m\u001b[43m.\u001b[49m\u001b[43mmodel\u001b[49m\u001b[43m(\u001b[49m\n\u001b[32m    545\u001b[39m \u001b[43m    \u001b[49m\u001b[43minput_ids\u001b[49m\u001b[43m=\u001b[49m\u001b[43minput_ids\u001b[49m\u001b[43m,\u001b[49m\n\u001b[32m    546\u001b[39m \u001b[43m    \u001b[49m\u001b[43mattention_mask\u001b[49m\u001b[43m=\u001b[49m\u001b[43mattention_mask\u001b[49m\u001b[43m,\u001b[49m\n\u001b[32m    547\u001b[39m \u001b[43m    \u001b[49m\u001b[43mposition_ids\u001b[49m\u001b[43m=\u001b[49m\u001b[43mposition_ids\u001b[49m\u001b[43m,\u001b[49m\n\u001b[32m    548\u001b[39m \u001b[43m    \u001b[49m\u001b[43mpast_key_values\u001b[49m\u001b[43m=\u001b[49m\u001b[43mpast_key_values\u001b[49m\u001b[43m,\u001b[49m\n\u001b[32m    549\u001b[39m \u001b[43m    \u001b[49m\u001b[43minputs_embeds\u001b[49m\u001b[43m=\u001b[49m\u001b[43minputs_embeds\u001b[49m\u001b[43m,\u001b[49m\n\u001b[32m    550\u001b[39m \u001b[43m    \u001b[49m\u001b[43muse_cache\u001b[49m\u001b[43m=\u001b[49m\u001b[43muse_cache\u001b[49m\u001b[43m,\u001b[49m\n\u001b[32m    551\u001b[39m \u001b[43m    \u001b[49m\u001b[43moutput_attentions\u001b[49m\u001b[43m=\u001b[49m\u001b[43moutput_attentions\u001b[49m\u001b[43m,\u001b[49m\n\u001b[32m    552\u001b[39m \u001b[43m    \u001b[49m\u001b[43moutput_hidden_states\u001b[49m\u001b[43m=\u001b[49m\u001b[43moutput_hidden_states\u001b[49m\u001b[43m,\u001b[49m\n\u001b[32m    553\u001b[39m \u001b[43m    \u001b[49m\u001b[43mcache_position\u001b[49m\u001b[43m=\u001b[49m\u001b[43mcache_position\u001b[49m\u001b[43m,\u001b[49m\n\u001b[32m    554\u001b[39m \u001b[43m    \u001b[49m\u001b[43m*\u001b[49m\u001b[43m*\u001b[49m\u001b[43mkwargs\u001b[49m\u001b[43m,\u001b[49m\n\u001b[32m    555\u001b[39m \u001b[43m\u001b[49m\u001b[43m)\u001b[49m\n\u001b[32m    557\u001b[39m hidden_states = outputs.last_hidden_state\n\u001b[32m    558\u001b[39m \u001b[38;5;66;03m# Only compute necessary logits, and do not upcast them to float if we are not computing the loss\u001b[39;00m\n",
      "\u001b[36mFile \u001b[39m\u001b[32m~/25-1/HCLT/iSKA_Gen/.pixi/envs/default/lib/python3.11/site-packages/torch/nn/modules/module.py:1736\u001b[39m, in \u001b[36mModule._wrapped_call_impl\u001b[39m\u001b[34m(self, *args, **kwargs)\u001b[39m\n\u001b[32m   1734\u001b[39m     \u001b[38;5;28;01mreturn\u001b[39;00m \u001b[38;5;28mself\u001b[39m._compiled_call_impl(*args, **kwargs)  \u001b[38;5;66;03m# type: ignore[misc]\u001b[39;00m\n\u001b[32m   1735\u001b[39m \u001b[38;5;28;01melse\u001b[39;00m:\n\u001b[32m-> \u001b[39m\u001b[32m1736\u001b[39m     \u001b[38;5;28;01mreturn\u001b[39;00m \u001b[38;5;28;43mself\u001b[39;49m\u001b[43m.\u001b[49m\u001b[43m_call_impl\u001b[49m\u001b[43m(\u001b[49m\u001b[43m*\u001b[49m\u001b[43margs\u001b[49m\u001b[43m,\u001b[49m\u001b[43m \u001b[49m\u001b[43m*\u001b[49m\u001b[43m*\u001b[49m\u001b[43mkwargs\u001b[49m\u001b[43m)\u001b[49m\n",
      "\u001b[36mFile \u001b[39m\u001b[32m~/25-1/HCLT/iSKA_Gen/.pixi/envs/default/lib/python3.11/site-packages/torch/nn/modules/module.py:1747\u001b[39m, in \u001b[36mModule._call_impl\u001b[39m\u001b[34m(self, *args, **kwargs)\u001b[39m\n\u001b[32m   1742\u001b[39m \u001b[38;5;66;03m# If we don't have any hooks, we want to skip the rest of the logic in\u001b[39;00m\n\u001b[32m   1743\u001b[39m \u001b[38;5;66;03m# this function, and just call forward.\u001b[39;00m\n\u001b[32m   1744\u001b[39m \u001b[38;5;28;01mif\u001b[39;00m \u001b[38;5;129;01mnot\u001b[39;00m (\u001b[38;5;28mself\u001b[39m._backward_hooks \u001b[38;5;129;01mor\u001b[39;00m \u001b[38;5;28mself\u001b[39m._backward_pre_hooks \u001b[38;5;129;01mor\u001b[39;00m \u001b[38;5;28mself\u001b[39m._forward_hooks \u001b[38;5;129;01mor\u001b[39;00m \u001b[38;5;28mself\u001b[39m._forward_pre_hooks\n\u001b[32m   1745\u001b[39m         \u001b[38;5;129;01mor\u001b[39;00m _global_backward_pre_hooks \u001b[38;5;129;01mor\u001b[39;00m _global_backward_hooks\n\u001b[32m   1746\u001b[39m         \u001b[38;5;129;01mor\u001b[39;00m _global_forward_hooks \u001b[38;5;129;01mor\u001b[39;00m _global_forward_pre_hooks):\n\u001b[32m-> \u001b[39m\u001b[32m1747\u001b[39m     \u001b[38;5;28;01mreturn\u001b[39;00m \u001b[43mforward_call\u001b[49m\u001b[43m(\u001b[49m\u001b[43m*\u001b[49m\u001b[43margs\u001b[49m\u001b[43m,\u001b[49m\u001b[43m \u001b[49m\u001b[43m*\u001b[49m\u001b[43m*\u001b[49m\u001b[43mkwargs\u001b[49m\u001b[43m)\u001b[49m\n\u001b[32m   1749\u001b[39m result = \u001b[38;5;28;01mNone\u001b[39;00m\n\u001b[32m   1750\u001b[39m called_always_called_hooks = \u001b[38;5;28mset\u001b[39m()\n",
      "\u001b[36mFile \u001b[39m\u001b[32m~/25-1/HCLT/iSKA_Gen/.pixi/envs/default/lib/python3.11/site-packages/transformers/utils/generic.py:943\u001b[39m, in \u001b[36mcan_return_tuple.<locals>.wrapper\u001b[39m\u001b[34m(self, *args, **kwargs)\u001b[39m\n\u001b[32m    940\u001b[39m     set_attribute_for_modules(\u001b[38;5;28mself\u001b[39m, \u001b[33m\"\u001b[39m\u001b[33m_is_top_level_module\u001b[39m\u001b[33m\"\u001b[39m, \u001b[38;5;28;01mFalse\u001b[39;00m)\n\u001b[32m    942\u001b[39m \u001b[38;5;28;01mtry\u001b[39;00m:\n\u001b[32m--> \u001b[39m\u001b[32m943\u001b[39m     output = \u001b[43mfunc\u001b[49m\u001b[43m(\u001b[49m\u001b[38;5;28;43mself\u001b[39;49m\u001b[43m,\u001b[49m\u001b[43m \u001b[49m\u001b[43m*\u001b[49m\u001b[43margs\u001b[49m\u001b[43m,\u001b[49m\u001b[43m \u001b[49m\u001b[43m*\u001b[49m\u001b[43m*\u001b[49m\u001b[43mkwargs\u001b[49m\u001b[43m)\u001b[49m\n\u001b[32m    944\u001b[39m     \u001b[38;5;28;01mif\u001b[39;00m is_requested_to_return_tuple \u001b[38;5;129;01mor\u001b[39;00m (is_configured_to_return_tuple \u001b[38;5;129;01mand\u001b[39;00m is_top_level_module):\n\u001b[32m    945\u001b[39m         output = output.to_tuple()\n",
      "\u001b[36mFile \u001b[39m\u001b[32m~/25-1/HCLT/iSKA_Gen/.pixi/envs/default/lib/python3.11/site-packages/transformers/models/qwen2/modeling_qwen2.py:432\u001b[39m, in \u001b[36mQwen2Model.forward\u001b[39m\u001b[34m(self, input_ids, attention_mask, position_ids, past_key_values, inputs_embeds, use_cache, output_attentions, output_hidden_states, cache_position, **flash_attn_kwargs)\u001b[39m\n\u001b[32m    429\u001b[39m \u001b[38;5;28;01mif\u001b[39;00m output_hidden_states:\n\u001b[32m    430\u001b[39m     all_hidden_states += (hidden_states,)\n\u001b[32m--> \u001b[39m\u001b[32m432\u001b[39m layer_outputs = \u001b[43mdecoder_layer\u001b[49m\u001b[43m(\u001b[49m\n\u001b[32m    433\u001b[39m \u001b[43m    \u001b[49m\u001b[43mhidden_states\u001b[49m\u001b[43m,\u001b[49m\n\u001b[32m    434\u001b[39m \u001b[43m    \u001b[49m\u001b[43mattention_mask\u001b[49m\u001b[43m=\u001b[49m\u001b[43mcausal_mask_mapping\u001b[49m\u001b[43m[\u001b[49m\u001b[43mdecoder_layer\u001b[49m\u001b[43m.\u001b[49m\u001b[43mattention_type\u001b[49m\u001b[43m]\u001b[49m\u001b[43m,\u001b[49m\n\u001b[32m    435\u001b[39m \u001b[43m    \u001b[49m\u001b[43mposition_ids\u001b[49m\u001b[43m=\u001b[49m\u001b[43mposition_ids\u001b[49m\u001b[43m,\u001b[49m\n\u001b[32m    436\u001b[39m \u001b[43m    \u001b[49m\u001b[43mpast_key_value\u001b[49m\u001b[43m=\u001b[49m\u001b[43mpast_key_values\u001b[49m\u001b[43m,\u001b[49m\n\u001b[32m    437\u001b[39m \u001b[43m    \u001b[49m\u001b[43moutput_attentions\u001b[49m\u001b[43m=\u001b[49m\u001b[43moutput_attentions\u001b[49m\u001b[43m,\u001b[49m\n\u001b[32m    438\u001b[39m \u001b[43m    \u001b[49m\u001b[43muse_cache\u001b[49m\u001b[43m=\u001b[49m\u001b[43muse_cache\u001b[49m\u001b[43m,\u001b[49m\n\u001b[32m    439\u001b[39m \u001b[43m    \u001b[49m\u001b[43mcache_position\u001b[49m\u001b[43m=\u001b[49m\u001b[43mcache_position\u001b[49m\u001b[43m,\u001b[49m\n\u001b[32m    440\u001b[39m \u001b[43m    \u001b[49m\u001b[43mposition_embeddings\u001b[49m\u001b[43m=\u001b[49m\u001b[43mposition_embeddings\u001b[49m\u001b[43m,\u001b[49m\n\u001b[32m    441\u001b[39m \u001b[43m    \u001b[49m\u001b[43m*\u001b[49m\u001b[43m*\u001b[49m\u001b[43mflash_attn_kwargs\u001b[49m\u001b[43m,\u001b[49m\n\u001b[32m    442\u001b[39m \u001b[43m\u001b[49m\u001b[43m)\u001b[49m\n\u001b[32m    444\u001b[39m hidden_states = layer_outputs[\u001b[32m0\u001b[39m]\n\u001b[32m    446\u001b[39m \u001b[38;5;28;01mif\u001b[39;00m output_attentions:\n",
      "\u001b[36mFile \u001b[39m\u001b[32m~/25-1/HCLT/iSKA_Gen/.pixi/envs/default/lib/python3.11/site-packages/transformers/modeling_layers.py:83\u001b[39m, in \u001b[36mGradientCheckpointingLayer.__call__\u001b[39m\u001b[34m(self, *args, **kwargs)\u001b[39m\n\u001b[32m     80\u001b[39m         logger.warning(message)\n\u001b[32m     82\u001b[39m     \u001b[38;5;28;01mreturn\u001b[39;00m \u001b[38;5;28mself\u001b[39m._gradient_checkpointing_func(partial(\u001b[38;5;28msuper\u001b[39m().\u001b[34m__call__\u001b[39m, **kwargs), *args)\n\u001b[32m---> \u001b[39m\u001b[32m83\u001b[39m \u001b[38;5;28;01mreturn\u001b[39;00m \u001b[38;5;28;43msuper\u001b[39;49m\u001b[43m(\u001b[49m\u001b[43m)\u001b[49m\u001b[43m.\u001b[49m\u001b[34;43m__call__\u001b[39;49m\u001b[43m(\u001b[49m\u001b[43m*\u001b[49m\u001b[43margs\u001b[49m\u001b[43m,\u001b[49m\u001b[43m \u001b[49m\u001b[43m*\u001b[49m\u001b[43m*\u001b[49m\u001b[43mkwargs\u001b[49m\u001b[43m)\u001b[49m\n",
      "\u001b[36mFile \u001b[39m\u001b[32m~/25-1/HCLT/iSKA_Gen/.pixi/envs/default/lib/python3.11/site-packages/torch/nn/modules/module.py:1736\u001b[39m, in \u001b[36mModule._wrapped_call_impl\u001b[39m\u001b[34m(self, *args, **kwargs)\u001b[39m\n\u001b[32m   1734\u001b[39m     \u001b[38;5;28;01mreturn\u001b[39;00m \u001b[38;5;28mself\u001b[39m._compiled_call_impl(*args, **kwargs)  \u001b[38;5;66;03m# type: ignore[misc]\u001b[39;00m\n\u001b[32m   1735\u001b[39m \u001b[38;5;28;01melse\u001b[39;00m:\n\u001b[32m-> \u001b[39m\u001b[32m1736\u001b[39m     \u001b[38;5;28;01mreturn\u001b[39;00m \u001b[38;5;28;43mself\u001b[39;49m\u001b[43m.\u001b[49m\u001b[43m_call_impl\u001b[49m\u001b[43m(\u001b[49m\u001b[43m*\u001b[49m\u001b[43margs\u001b[49m\u001b[43m,\u001b[49m\u001b[43m \u001b[49m\u001b[43m*\u001b[49m\u001b[43m*\u001b[49m\u001b[43mkwargs\u001b[49m\u001b[43m)\u001b[49m\n",
      "\u001b[36mFile \u001b[39m\u001b[32m~/25-1/HCLT/iSKA_Gen/.pixi/envs/default/lib/python3.11/site-packages/torch/nn/modules/module.py:1747\u001b[39m, in \u001b[36mModule._call_impl\u001b[39m\u001b[34m(self, *args, **kwargs)\u001b[39m\n\u001b[32m   1742\u001b[39m \u001b[38;5;66;03m# If we don't have any hooks, we want to skip the rest of the logic in\u001b[39;00m\n\u001b[32m   1743\u001b[39m \u001b[38;5;66;03m# this function, and just call forward.\u001b[39;00m\n\u001b[32m   1744\u001b[39m \u001b[38;5;28;01mif\u001b[39;00m \u001b[38;5;129;01mnot\u001b[39;00m (\u001b[38;5;28mself\u001b[39m._backward_hooks \u001b[38;5;129;01mor\u001b[39;00m \u001b[38;5;28mself\u001b[39m._backward_pre_hooks \u001b[38;5;129;01mor\u001b[39;00m \u001b[38;5;28mself\u001b[39m._forward_hooks \u001b[38;5;129;01mor\u001b[39;00m \u001b[38;5;28mself\u001b[39m._forward_pre_hooks\n\u001b[32m   1745\u001b[39m         \u001b[38;5;129;01mor\u001b[39;00m _global_backward_pre_hooks \u001b[38;5;129;01mor\u001b[39;00m _global_backward_hooks\n\u001b[32m   1746\u001b[39m         \u001b[38;5;129;01mor\u001b[39;00m _global_forward_hooks \u001b[38;5;129;01mor\u001b[39;00m _global_forward_pre_hooks):\n\u001b[32m-> \u001b[39m\u001b[32m1747\u001b[39m     \u001b[38;5;28;01mreturn\u001b[39;00m \u001b[43mforward_call\u001b[49m\u001b[43m(\u001b[49m\u001b[43m*\u001b[49m\u001b[43margs\u001b[49m\u001b[43m,\u001b[49m\u001b[43m \u001b[49m\u001b[43m*\u001b[49m\u001b[43m*\u001b[49m\u001b[43mkwargs\u001b[49m\u001b[43m)\u001b[49m\n\u001b[32m   1749\u001b[39m result = \u001b[38;5;28;01mNone\u001b[39;00m\n\u001b[32m   1750\u001b[39m called_always_called_hooks = \u001b[38;5;28mset\u001b[39m()\n",
      "\u001b[36mFile \u001b[39m\u001b[32m~/25-1/HCLT/iSKA_Gen/.pixi/envs/default/lib/python3.11/site-packages/transformers/models/qwen2/modeling_qwen2.py:236\u001b[39m, in \u001b[36mQwen2DecoderLayer.forward\u001b[39m\u001b[34m(self, hidden_states, attention_mask, position_ids, past_key_value, output_attentions, use_cache, cache_position, position_embeddings, **kwargs)\u001b[39m\n\u001b[32m    233\u001b[39m hidden_states = \u001b[38;5;28mself\u001b[39m.input_layernorm(hidden_states)\n\u001b[32m    235\u001b[39m \u001b[38;5;66;03m# Self Attention\u001b[39;00m\n\u001b[32m--> \u001b[39m\u001b[32m236\u001b[39m hidden_states, self_attn_weights = \u001b[38;5;28;43mself\u001b[39;49m\u001b[43m.\u001b[49m\u001b[43mself_attn\u001b[49m\u001b[43m(\u001b[49m\n\u001b[32m    237\u001b[39m \u001b[43m    \u001b[49m\u001b[43mhidden_states\u001b[49m\u001b[43m=\u001b[49m\u001b[43mhidden_states\u001b[49m\u001b[43m,\u001b[49m\n\u001b[32m    238\u001b[39m \u001b[43m    \u001b[49m\u001b[43mattention_mask\u001b[49m\u001b[43m=\u001b[49m\u001b[43mattention_mask\u001b[49m\u001b[43m,\u001b[49m\n\u001b[32m    239\u001b[39m \u001b[43m    \u001b[49m\u001b[43mposition_ids\u001b[49m\u001b[43m=\u001b[49m\u001b[43mposition_ids\u001b[49m\u001b[43m,\u001b[49m\n\u001b[32m    240\u001b[39m \u001b[43m    \u001b[49m\u001b[43mpast_key_value\u001b[49m\u001b[43m=\u001b[49m\u001b[43mpast_key_value\u001b[49m\u001b[43m,\u001b[49m\n\u001b[32m    241\u001b[39m \u001b[43m    \u001b[49m\u001b[43moutput_attentions\u001b[49m\u001b[43m=\u001b[49m\u001b[43moutput_attentions\u001b[49m\u001b[43m,\u001b[49m\n\u001b[32m    242\u001b[39m \u001b[43m    \u001b[49m\u001b[43muse_cache\u001b[49m\u001b[43m=\u001b[49m\u001b[43muse_cache\u001b[49m\u001b[43m,\u001b[49m\n\u001b[32m    243\u001b[39m \u001b[43m    \u001b[49m\u001b[43mcache_position\u001b[49m\u001b[43m=\u001b[49m\u001b[43mcache_position\u001b[49m\u001b[43m,\u001b[49m\n\u001b[32m    244\u001b[39m \u001b[43m    \u001b[49m\u001b[43mposition_embeddings\u001b[49m\u001b[43m=\u001b[49m\u001b[43mposition_embeddings\u001b[49m\u001b[43m,\u001b[49m\n\u001b[32m    245\u001b[39m \u001b[43m    \u001b[49m\u001b[43m*\u001b[49m\u001b[43m*\u001b[49m\u001b[43mkwargs\u001b[49m\u001b[43m,\u001b[49m\n\u001b[32m    246\u001b[39m \u001b[43m\u001b[49m\u001b[43m)\u001b[49m\n\u001b[32m    247\u001b[39m hidden_states = residual + hidden_states\n\u001b[32m    249\u001b[39m \u001b[38;5;66;03m# Fully Connected\u001b[39;00m\n",
      "\u001b[36mFile \u001b[39m\u001b[32m~/25-1/HCLT/iSKA_Gen/.pixi/envs/default/lib/python3.11/site-packages/torch/nn/modules/module.py:1736\u001b[39m, in \u001b[36mModule._wrapped_call_impl\u001b[39m\u001b[34m(self, *args, **kwargs)\u001b[39m\n\u001b[32m   1734\u001b[39m     \u001b[38;5;28;01mreturn\u001b[39;00m \u001b[38;5;28mself\u001b[39m._compiled_call_impl(*args, **kwargs)  \u001b[38;5;66;03m# type: ignore[misc]\u001b[39;00m\n\u001b[32m   1735\u001b[39m \u001b[38;5;28;01melse\u001b[39;00m:\n\u001b[32m-> \u001b[39m\u001b[32m1736\u001b[39m     \u001b[38;5;28;01mreturn\u001b[39;00m \u001b[38;5;28;43mself\u001b[39;49m\u001b[43m.\u001b[49m\u001b[43m_call_impl\u001b[49m\u001b[43m(\u001b[49m\u001b[43m*\u001b[49m\u001b[43margs\u001b[49m\u001b[43m,\u001b[49m\u001b[43m \u001b[49m\u001b[43m*\u001b[49m\u001b[43m*\u001b[49m\u001b[43mkwargs\u001b[49m\u001b[43m)\u001b[49m\n",
      "\u001b[36mFile \u001b[39m\u001b[32m~/25-1/HCLT/iSKA_Gen/.pixi/envs/default/lib/python3.11/site-packages/torch/nn/modules/module.py:1747\u001b[39m, in \u001b[36mModule._call_impl\u001b[39m\u001b[34m(self, *args, **kwargs)\u001b[39m\n\u001b[32m   1742\u001b[39m \u001b[38;5;66;03m# If we don't have any hooks, we want to skip the rest of the logic in\u001b[39;00m\n\u001b[32m   1743\u001b[39m \u001b[38;5;66;03m# this function, and just call forward.\u001b[39;00m\n\u001b[32m   1744\u001b[39m \u001b[38;5;28;01mif\u001b[39;00m \u001b[38;5;129;01mnot\u001b[39;00m (\u001b[38;5;28mself\u001b[39m._backward_hooks \u001b[38;5;129;01mor\u001b[39;00m \u001b[38;5;28mself\u001b[39m._backward_pre_hooks \u001b[38;5;129;01mor\u001b[39;00m \u001b[38;5;28mself\u001b[39m._forward_hooks \u001b[38;5;129;01mor\u001b[39;00m \u001b[38;5;28mself\u001b[39m._forward_pre_hooks\n\u001b[32m   1745\u001b[39m         \u001b[38;5;129;01mor\u001b[39;00m _global_backward_pre_hooks \u001b[38;5;129;01mor\u001b[39;00m _global_backward_hooks\n\u001b[32m   1746\u001b[39m         \u001b[38;5;129;01mor\u001b[39;00m _global_forward_hooks \u001b[38;5;129;01mor\u001b[39;00m _global_forward_pre_hooks):\n\u001b[32m-> \u001b[39m\u001b[32m1747\u001b[39m     \u001b[38;5;28;01mreturn\u001b[39;00m \u001b[43mforward_call\u001b[49m\u001b[43m(\u001b[49m\u001b[43m*\u001b[49m\u001b[43margs\u001b[49m\u001b[43m,\u001b[49m\u001b[43m \u001b[49m\u001b[43m*\u001b[49m\u001b[43m*\u001b[49m\u001b[43mkwargs\u001b[49m\u001b[43m)\u001b[49m\n\u001b[32m   1749\u001b[39m result = \u001b[38;5;28;01mNone\u001b[39;00m\n\u001b[32m   1750\u001b[39m called_always_called_hooks = \u001b[38;5;28mset\u001b[39m()\n",
      "\u001b[36mFile \u001b[39m\u001b[32m~/25-1/HCLT/iSKA_Gen/.pixi/envs/default/lib/python3.11/site-packages/transformers/models/qwen2/modeling_qwen2.py:170\u001b[39m, in \u001b[36mQwen2Attention.forward\u001b[39m\u001b[34m(self, hidden_states, position_embeddings, attention_mask, past_key_value, cache_position, **kwargs)\u001b[39m\n\u001b[32m    167\u001b[39m \u001b[38;5;28;01mif\u001b[39;00m \u001b[38;5;28mself\u001b[39m.config._attn_implementation != \u001b[33m\"\u001b[39m\u001b[33meager\u001b[39m\u001b[33m\"\u001b[39m:\n\u001b[32m    168\u001b[39m     attention_interface = ALL_ATTENTION_FUNCTIONS[\u001b[38;5;28mself\u001b[39m.config._attn_implementation]\n\u001b[32m--> \u001b[39m\u001b[32m170\u001b[39m attn_output, attn_weights = \u001b[43mattention_interface\u001b[49m\u001b[43m(\u001b[49m\n\u001b[32m    171\u001b[39m \u001b[43m    \u001b[49m\u001b[38;5;28;43mself\u001b[39;49m\u001b[43m,\u001b[49m\n\u001b[32m    172\u001b[39m \u001b[43m    \u001b[49m\u001b[43mquery_states\u001b[49m\u001b[43m,\u001b[49m\n\u001b[32m    173\u001b[39m \u001b[43m    \u001b[49m\u001b[43mkey_states\u001b[49m\u001b[43m,\u001b[49m\n\u001b[32m    174\u001b[39m \u001b[43m    \u001b[49m\u001b[43mvalue_states\u001b[49m\u001b[43m,\u001b[49m\n\u001b[32m    175\u001b[39m \u001b[43m    \u001b[49m\u001b[43mattention_mask\u001b[49m\u001b[43m,\u001b[49m\n\u001b[32m    176\u001b[39m \u001b[43m    \u001b[49m\u001b[43mdropout\u001b[49m\u001b[43m=\u001b[49m\u001b[32;43m0.0\u001b[39;49m\u001b[43m \u001b[49m\u001b[38;5;28;43;01mif\u001b[39;49;00m\u001b[43m \u001b[49m\u001b[38;5;129;43;01mnot\u001b[39;49;00m\u001b[43m \u001b[49m\u001b[38;5;28;43mself\u001b[39;49m\u001b[43m.\u001b[49m\u001b[43mtraining\u001b[49m\u001b[43m \u001b[49m\u001b[38;5;28;43;01melse\u001b[39;49;00m\u001b[43m \u001b[49m\u001b[38;5;28;43mself\u001b[39;49m\u001b[43m.\u001b[49m\u001b[43mattention_dropout\u001b[49m\u001b[43m,\u001b[49m\n\u001b[32m    177\u001b[39m \u001b[43m    \u001b[49m\u001b[43mscaling\u001b[49m\u001b[43m=\u001b[49m\u001b[38;5;28;43mself\u001b[39;49m\u001b[43m.\u001b[49m\u001b[43mscaling\u001b[49m\u001b[43m,\u001b[49m\n\u001b[32m    178\u001b[39m \u001b[43m    \u001b[49m\u001b[43msliding_window\u001b[49m\u001b[43m=\u001b[49m\u001b[38;5;28;43mself\u001b[39;49m\u001b[43m.\u001b[49m\u001b[43msliding_window\u001b[49m\u001b[43m,\u001b[49m\u001b[43m  \u001b[49m\u001b[38;5;66;43;03m# main diff with Llama\u001b[39;49;00m\n\u001b[32m    179\u001b[39m \u001b[43m    \u001b[49m\u001b[43m*\u001b[49m\u001b[43m*\u001b[49m\u001b[43mkwargs\u001b[49m\u001b[43m,\u001b[49m\n\u001b[32m    180\u001b[39m \u001b[43m\u001b[49m\u001b[43m)\u001b[49m\n\u001b[32m    182\u001b[39m attn_output = attn_output.reshape(*input_shape, -\u001b[32m1\u001b[39m).contiguous()\n\u001b[32m    183\u001b[39m attn_output = \u001b[38;5;28mself\u001b[39m.o_proj(attn_output)\n",
      "\u001b[36mFile \u001b[39m\u001b[32m~/25-1/HCLT/iSKA_Gen/.pixi/envs/default/lib/python3.11/site-packages/transformers/integrations/sdpa_attention.py:66\u001b[39m, in \u001b[36msdpa_attention_forward\u001b[39m\u001b[34m(module, query, key, value, attention_mask, dropout, scaling, is_causal, **kwargs)\u001b[39m\n\u001b[32m     63\u001b[39m \u001b[38;5;28;01mif\u001b[39;00m torch.jit.is_tracing() \u001b[38;5;129;01mand\u001b[39;00m \u001b[38;5;28misinstance\u001b[39m(is_causal, torch.Tensor):\n\u001b[32m     64\u001b[39m     is_causal = is_causal.item()\n\u001b[32m---> \u001b[39m\u001b[32m66\u001b[39m attn_output = \u001b[43mtorch\u001b[49m\u001b[43m.\u001b[49m\u001b[43mnn\u001b[49m\u001b[43m.\u001b[49m\u001b[43mfunctional\u001b[49m\u001b[43m.\u001b[49m\u001b[43mscaled_dot_product_attention\u001b[49m\u001b[43m(\u001b[49m\n\u001b[32m     67\u001b[39m \u001b[43m    \u001b[49m\u001b[43mquery\u001b[49m\u001b[43m,\u001b[49m\n\u001b[32m     68\u001b[39m \u001b[43m    \u001b[49m\u001b[43mkey\u001b[49m\u001b[43m,\u001b[49m\n\u001b[32m     69\u001b[39m \u001b[43m    \u001b[49m\u001b[43mvalue\u001b[49m\u001b[43m,\u001b[49m\n\u001b[32m     70\u001b[39m \u001b[43m    \u001b[49m\u001b[43mattn_mask\u001b[49m\u001b[43m=\u001b[49m\u001b[43mattention_mask\u001b[49m\u001b[43m,\u001b[49m\n\u001b[32m     71\u001b[39m \u001b[43m    \u001b[49m\u001b[43mdropout_p\u001b[49m\u001b[43m=\u001b[49m\u001b[43mdropout\u001b[49m\u001b[43m,\u001b[49m\n\u001b[32m     72\u001b[39m \u001b[43m    \u001b[49m\u001b[43mscale\u001b[49m\u001b[43m=\u001b[49m\u001b[43mscaling\u001b[49m\u001b[43m,\u001b[49m\n\u001b[32m     73\u001b[39m \u001b[43m    \u001b[49m\u001b[43mis_causal\u001b[49m\u001b[43m=\u001b[49m\u001b[43mis_causal\u001b[49m\u001b[43m,\u001b[49m\n\u001b[32m     74\u001b[39m \u001b[43m\u001b[49m\u001b[43m)\u001b[49m\n\u001b[32m     75\u001b[39m attn_output = attn_output.transpose(\u001b[32m1\u001b[39m, \u001b[32m2\u001b[39m).contiguous()\n\u001b[32m     77\u001b[39m \u001b[38;5;28;01mreturn\u001b[39;00m attn_output, \u001b[38;5;28;01mNone\u001b[39;00m\n",
      "\u001b[31mKeyboardInterrupt\u001b[39m: "
     ]
    }
   ],
   "source": [
    "for model_name in MODEL_LIST:\n",
    "    generate_options(benchmark_file=BENCH_FILE, stem_model_name=model_name, model_name=model_name, template_key=\"options_agent.few_shot\", stem_template_key=\"stem_agent.few_shot\", gpus=[2, 3], BENCH_ID_LIST=BENCH_ID_LIST, date_str=DATE_STR)"
   ]
  },
  {
   "cell_type": "code",
   "execution_count": null,
   "id": "1a1c9b0f",
   "metadata": {},
   "outputs": [],
   "source": []
  },
  {
   "cell_type": "code",
   "execution_count": null,
   "id": "19e506ce",
   "metadata": {},
   "outputs": [],
   "source": []
  },
  {
   "cell_type": "code",
   "execution_count": null,
   "id": "93502795",
   "metadata": {},
   "outputs": [],
   "source": []
  }
 ],
 "metadata": {
  "kernelspec": {
   "display_name": "Python (iSKA_Gen)",
   "language": "python",
   "name": "iska_gen"
  },
  "language_info": {
   "codemirror_mode": {
    "name": "ipython",
    "version": 3
   },
   "file_extension": ".py",
   "mimetype": "text/x-python",
   "name": "python",
   "nbconvert_exporter": "python",
   "pygments_lexer": "ipython3",
   "version": "3.11.9"
  }
 },
 "nbformat": 4,
 "nbformat_minor": 5
}
